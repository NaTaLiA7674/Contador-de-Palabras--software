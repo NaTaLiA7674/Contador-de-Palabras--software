{
  "nbformat": 4,
  "nbformat_minor": 0,
  "metadata": {
    "colab": {
      "provenance": [],
      "collapsed_sections": [
        "-abLZOnZFxCt"
      ],
      "toc_visible": true
    },
    "kernelspec": {
      "name": "python3",
      "display_name": "Python 3"
    },
    "language_info": {
      "name": "python"
    }
  },
  "cells": [
    {
      "cell_type": "markdown",
      "source": [
        "# Operaciones con Listas, Tuplas y Diccionarios\n",
        "\n",
        "Las listas y tuplas son estructuras de datos fundamentales en Python que se utilizan para almacenar colecciones de elementos. Las listas son mutables, lo que significa que sus elementos se pueden cambiar después de haber sido creadas, mientras que las tuplas son inmutables.\n",
        "\n",
        "\n",
        "<img src=\"https://miro.medium.com/v2/resize:fit:1400/0*hZ1kX3Zlr9NheJvu.jpeg\">\n",
        "\n"
      ],
      "metadata": {
        "id": "d4R6Vsp8BGKq"
      }
    },
    {
      "cell_type": "markdown",
      "source": [
        "## Listas\n",
        "\n",
        "Las listas son colecciones ordenadas de elementos que pueden ser modificadas.\n",
        "\n",
        "\n",
        "<img src=\"https://elpythonista.com/wp-content/uploads/2020/11/Listas_En_Python.jpg\" width=500>"
      ],
      "metadata": {
        "id": "3wC63J5YFtY0"
      }
    },
    {
      "cell_type": "code",
      "execution_count": 3,
      "metadata": {
        "colab": {
          "base_uri": "https://localhost:8080/"
        },
        "id": "XY0DOCBq_zsd",
        "outputId": "bb18899a-7673-46de-eb4a-538989bb7612"
      },
      "outputs": [
        {
          "output_type": "stream",
          "name": "stdout",
          "text": [
            "[[2, 3, 1, 3, 4, 5, 7, 6], 'Vamos con texto', 1, 4.6, True, False]\n"
          ]
        }
      ],
      "source": [
        "# Crear una lista\n",
        "mi_lista = [2,3,1,3,4,5,7,6]\n",
        "mi_lista2 = list([mi_lista,'Vamos con texto',1,4.6, True, False])\n",
        "print(mi_lista2)"
      ]
    },
    {
      "cell_type": "code",
      "source": [
        "# Acceder a los elementos\n",
        "primer_elemento = mi_lista[0]\n",
        "ultimo_elemento = mi_lista[-1]\n",
        "sublista = mi_lista[0:2]\n",
        "print(primer_elemento, ultimo_elemento)\n",
        "print(sublista)"
      ],
      "metadata": {
        "colab": {
          "base_uri": "https://localhost:8080/"
        },
        "id": "sziT-flDsfSk",
        "outputId": "6a2203a7-76d5-493b-9aac-24c0261d88ef"
      },
      "execution_count": 10,
      "outputs": [
        {
          "output_type": "stream",
          "name": "stdout",
          "text": [
            "2 6\n",
            "[2, 3]\n"
          ]
        }
      ]
    },
    {
      "cell_type": "code",
      "source": [
        "# Modificar el contenido\n",
        "mi_lista[2] = 10\n",
        "print(mi_lista)"
      ],
      "metadata": {
        "colab": {
          "base_uri": "https://localhost:8080/"
        },
        "id": "wpVjp5nzuFOn",
        "outputId": "ba81d668-af6f-4570-8b85-b21dc4cf5b04"
      },
      "execution_count": 11,
      "outputs": [
        {
          "output_type": "stream",
          "name": "stdout",
          "text": [
            "[2, 3, 10, 3, 4, 5, 7, 6]\n"
          ]
        }
      ]
    },
    {
      "cell_type": "code",
      "source": [
        "# Agregar elementos\n",
        "mi_lista.append(6)\n",
        "mi_lista.append(10)\n",
        "print(mi_lista)"
      ],
      "metadata": {
        "colab": {
          "base_uri": "https://localhost:8080/"
        },
        "id": "O7bv85IbuPwo",
        "outputId": "7084a8ff-bb8c-494a-8ef8-8a41d9886b2b"
      },
      "execution_count": 12,
      "outputs": [
        {
          "output_type": "stream",
          "name": "stdout",
          "text": [
            "[2, 3, 10, 3, 4, 5, 7, 6, 6, 10]\n"
          ]
        }
      ]
    },
    {
      "cell_type": "code",
      "source": [
        "# Eliminar elementos\n",
        "mi_lista.remove(10)\n",
        "print(mi_lista)"
      ],
      "metadata": {
        "colab": {
          "base_uri": "https://localhost:8080/"
        },
        "id": "hsyWSclVuUrN",
        "outputId": "c8874907-b859-42be-da4d-be5a02ce1588"
      },
      "execution_count": 13,
      "outputs": [
        {
          "output_type": "stream",
          "name": "stdout",
          "text": [
            "[2, 3, 3, 4, 5, 7, 6, 6, 10]\n"
          ]
        }
      ]
    },
    {
      "cell_type": "code",
      "source": [
        "# Insertar elemento en una posición específica\n",
        "mi_lista.insert(2, 10)\n",
        "print(mi_lista)"
      ],
      "metadata": {
        "colab": {
          "base_uri": "https://localhost:8080/"
        },
        "id": "LuuTCXSowfcU",
        "outputId": "f1bf8dc7-961b-4754-ce91-8c4244d6f334"
      },
      "execution_count": 14,
      "outputs": [
        {
          "output_type": "stream",
          "name": "stdout",
          "text": [
            "[2, 3, 10, 3, 4, 5, 7, 6, 6, 10]\n"
          ]
        }
      ]
    },
    {
      "cell_type": "code",
      "source": [
        "# Eliminar en una posición específica\n",
        "elemento = mi_lista.pop(2) # Si no se coloca posición se elimina el último.\n",
        "print(mi_lista)\n",
        "print(elemento)"
      ],
      "metadata": {
        "colab": {
          "base_uri": "https://localhost:8080/"
        },
        "id": "JTxiWoQswnqJ",
        "outputId": "25ddd86e-9410-450c-c358-2930c950feb6"
      },
      "execution_count": 15,
      "outputs": [
        {
          "output_type": "stream",
          "name": "stdout",
          "text": [
            "[2, 3, 3, 4, 5, 7, 6, 6, 10]\n",
            "10\n"
          ]
        }
      ]
    },
    {
      "cell_type": "code",
      "source": [
        "# Logitud de lista\n",
        "longitud = len(mi_lista)\n",
        "print(longitud)"
      ],
      "metadata": {
        "colab": {
          "base_uri": "https://localhost:8080/"
        },
        "id": "S1cQvKQTuXzw",
        "outputId": "f3d8a944-23fd-41e2-fb63-29ee9879f57f"
      },
      "execution_count": 16,
      "outputs": [
        {
          "output_type": "stream",
          "name": "stdout",
          "text": [
            "9\n"
          ]
        }
      ]
    },
    {
      "cell_type": "code",
      "source": [
        "# Ordenar lista\n",
        "ordenada = list(sorted(mi_lista))\n",
        "print(ordenada)"
      ],
      "metadata": {
        "colab": {
          "base_uri": "https://localhost:8080/"
        },
        "id": "d0EmlFvgucE6",
        "outputId": "21fd07ef-f606-443a-ea27-1a0173974711"
      },
      "execution_count": 18,
      "outputs": [
        {
          "output_type": "stream",
          "name": "stdout",
          "text": [
            "[2, 3, 3, 4, 5, 6, 6, 7, 10]\n"
          ]
        }
      ]
    },
    {
      "cell_type": "code",
      "source": [
        "# Sumar elementos de la lista\n",
        "suma = sum(mi_lista)\n",
        "print(suma)"
      ],
      "metadata": {
        "colab": {
          "base_uri": "https://localhost:8080/"
        },
        "id": "TjK5pJ3ovLqg",
        "outputId": "a66ddb11-8daa-4f80-cfa8-5ecb70b5fc77"
      },
      "execution_count": 20,
      "outputs": [
        {
          "output_type": "stream",
          "name": "stdout",
          "text": [
            "46\n"
          ]
        }
      ]
    },
    {
      "cell_type": "code",
      "source": [
        "# Buscar elementos\n",
        "2 in mi_lista"
      ],
      "metadata": {
        "colab": {
          "base_uri": "https://localhost:8080/"
        },
        "id": "7G4y7oJI-GZv",
        "outputId": "84c90293-8141-459e-d0bf-5ecda9289728"
      },
      "execution_count": 21,
      "outputs": [
        {
          "output_type": "execute_result",
          "data": {
            "text/plain": [
              "True"
            ]
          },
          "metadata": {},
          "execution_count": 21
        }
      ]
    },
    {
      "cell_type": "code",
      "source": [
        "# Buscar elementos en una lista\n",
        "'Vamos con texto' in mi_lista2"
      ],
      "metadata": {
        "colab": {
          "base_uri": "https://localhost:8080/"
        },
        "id": "4XvwzTpa-OyU",
        "outputId": "372cb28b-9e0f-4c8c-f505-b158ceddd0cd"
      },
      "execution_count": 22,
      "outputs": [
        {
          "output_type": "execute_result",
          "data": {
            "text/plain": [
              "True"
            ]
          },
          "metadata": {},
          "execution_count": 22
        }
      ]
    },
    {
      "cell_type": "markdown",
      "source": [
        "## Tuplas\n",
        "\n",
        "Las tuplas son colecciones ordenadas de elementos que **NO** pueden ser modificadas después de su creación.\n",
        "\n",
        "<img src=\"https://elpythonista.com/wp-content/uploads/2020/11/Tuplas_En_Python.jpg\" width=500>\n"
      ],
      "metadata": {
        "id": "cZxXgU15v_XH"
      }
    },
    {
      "cell_type": "code",
      "source": [
        "# Sintáxis de una tupla\n",
        "mi_tupla = (1, 2, 3, 4, 5,1,2,4,2,2,2)\n",
        "mi_otra_tupla = tuple([1, 2, 3, 4, 5])\n",
        "print(mi_tupla)\n",
        "print(mi_otra_tupla)"
      ],
      "metadata": {
        "colab": {
          "base_uri": "https://localhost:8080/"
        },
        "id": "rdupd5rswGi9",
        "outputId": "c83e5513-1384-46d9-c074-22cb43f82a59"
      },
      "execution_count": 23,
      "outputs": [
        {
          "output_type": "stream",
          "name": "stdout",
          "text": [
            "(1, 2, 3, 4, 5, 1, 2, 4, 2, 2, 2)\n",
            "(1, 2, 3, 4, 5)\n"
          ]
        }
      ]
    },
    {
      "cell_type": "code",
      "source": [
        "# Acceder a elementos de una tupla\n",
        "primer_elemento = mi_tupla[0]\n",
        "ultimo_elemento = mi_tupla[-1]\n",
        "print(primer_elemento, ultimo_elemento)"
      ],
      "metadata": {
        "colab": {
          "base_uri": "https://localhost:8080/"
        },
        "id": "edQ60C73wGYe",
        "outputId": "9a5d967e-2e41-4d3f-acb8-dd7f49c2c5ad"
      },
      "execution_count": 24,
      "outputs": [
        {
          "output_type": "stream",
          "name": "stdout",
          "text": [
            "1 2\n"
          ]
        }
      ]
    },
    {
      "cell_type": "code",
      "source": [
        "# Longiutd de la tupla\n",
        "longitud = len(mi_tupla)\n",
        "print(longitud)"
      ],
      "metadata": {
        "colab": {
          "base_uri": "https://localhost:8080/"
        },
        "id": "zI08oLMMwGWT",
        "outputId": "a538d55c-04ef-4c6a-8f4d-f533a3ce6016"
      },
      "execution_count": 25,
      "outputs": [
        {
          "output_type": "stream",
          "name": "stdout",
          "text": [
            "11\n"
          ]
        }
      ]
    },
    {
      "cell_type": "code",
      "source": [
        "# Otras operaciones\n",
        "print('cuantas veces hay un elemento=',mi_tupla.count(2))\n",
        "print('dice en que posicion esta el elemento=',mi_tupla.index(4))\n",
        "#tupla[0]=2# dado que es una TUPLA no se puede agregar ni borrar información."
      ],
      "metadata": {
        "colab": {
          "base_uri": "https://localhost:8080/"
        },
        "id": "Dyp-fYvo8Rbz",
        "outputId": "483ef609-9216-4fe7-cc42-7b67b3e4a685"
      },
      "execution_count": 26,
      "outputs": [
        {
          "output_type": "stream",
          "name": "stdout",
          "text": [
            "cuantas veces hay un elemento= 5\n",
            "dice en que posicion esta el elemento= 3\n"
          ]
        }
      ]
    },
    {
      "cell_type": "markdown",
      "source": [
        "### Ejemplo\n",
        "\n",
        "1. Crear una lista con nombres de tus amigos.\n",
        "2.\tAgregar un nuevo nombre al final de la lista.\n",
        "3.\tReemplazar el segundo nombre con otro nombre.\n",
        "4.\tEliminar el último nombre de la lista.\n",
        "5.\tCrear una tupla con los nombres restantes.\n",
        "6.\tImprimir el primer y último nombre de la tupla."
      ],
      "metadata": {
        "id": "TKjbidEDyCu3"
      }
    },
    {
      "cell_type": "code",
      "source": [
        "# Tu código va acá\n",
        "nombres_amigos = list([\"Brahian\", \"Natalia\", \"Caleb\", \"Sofia\", \"Jeremy\", \"Jireh\"])\n",
        "print(nombres_amigos)"
      ],
      "metadata": {
        "id": "Eu_XvKFgyNPx",
        "outputId": "b82f70ba-bea3-4a98-eca6-c7beae91a26b",
        "colab": {
          "base_uri": "https://localhost:8080/"
        }
      },
      "execution_count": 28,
      "outputs": [
        {
          "output_type": "stream",
          "name": "stdout",
          "text": [
            "['Brahian', 'Natalia', 'Caleb', 'Sofia', 'Jeremy', 'Jireh']\n"
          ]
        }
      ]
    },
    {
      "cell_type": "code",
      "source": [
        "nombres_amigos.append(\"Carlos\")"
      ],
      "metadata": {
        "id": "zlcDowB98Znb"
      },
      "execution_count": 30,
      "outputs": []
    },
    {
      "cell_type": "code",
      "source": [
        "nombres_amigos[1] = \"Peralta\""
      ],
      "metadata": {
        "id": "hx5UY3vl8dNe"
      },
      "execution_count": 31,
      "outputs": []
    },
    {
      "cell_type": "code",
      "source": [
        "nombres_amigos.remove(nombres_amigos[-1])"
      ],
      "metadata": {
        "id": "nLaJdZbG8h0h"
      },
      "execution_count": 33,
      "outputs": []
    },
    {
      "cell_type": "code",
      "source": [
        "nombres_restantes = tuple(nombres_amigos)"
      ],
      "metadata": {
        "id": "TmDX_-Zo82MY"
      },
      "execution_count": 34,
      "outputs": []
    },
    {
      "cell_type": "code",
      "source": [
        "print(\"tupla: \", nombres_restantes)\n",
        "print(\"primer nombre: \", nombres_restantes[0])\n",
        "print(\"ultimo nombre: \", nombres_restantes[-1])"
      ],
      "metadata": {
        "id": "povmTqZd9LRl",
        "outputId": "69380d54-3fc1-4662-cf4d-9282488dde9d",
        "colab": {
          "base_uri": "https://localhost:8080/"
        }
      },
      "execution_count": 35,
      "outputs": [
        {
          "output_type": "stream",
          "name": "stdout",
          "text": [
            "tupla:  ('Brahian', 'Peralta', 'Caleb', 'Sofia', 'Jeremy', 'Jireh', 'Carlos')\n",
            "primer nombre:  Brahian\n",
            "ultimo nombre:  Carlos\n"
          ]
        }
      ]
    },
    {
      "cell_type": "markdown",
      "source": [
        "## Diccionarios\n",
        "\n",
        "Los diccionarios son colecciones de pares clave-valor. Cada clave se asocia con un valor y se puede utilizar para acceder a ese valor.\n",
        "\n",
        "<img src=\"https://elpythonista.com/wp-content/uploads/2020/12/Diccionarios_En_Python.jpg\" width=500>\n",
        "\n"
      ],
      "metadata": {
        "id": "-abLZOnZFxCt"
      }
    },
    {
      "cell_type": "code",
      "source": [
        "# Crear un diccionario\n",
        "mi_diccionario = {\"nombre\": \"Juan\", \"edad\": 30, \"ciudad\": \"Madrid\"}\n",
        "print(mi_diccionario)"
      ],
      "metadata": {
        "colab": {
          "base_uri": "https://localhost:8080/"
        },
        "id": "xqiX7vwMF3Bm",
        "outputId": "109b1088-c620-4d4a-acb7-b196d5a53955"
      },
      "execution_count": null,
      "outputs": [
        {
          "output_type": "stream",
          "name": "stdout",
          "text": [
            "{'nombre': 'Juan', 'edad': 30, 'ciudad': 'Madrid'}\n"
          ]
        }
      ]
    },
    {
      "cell_type": "code",
      "source": [
        "# Acceder a valores\n",
        "nombre = mi_diccionario[\"nombre\"]\n",
        "print(nombre)"
      ],
      "metadata": {
        "colab": {
          "base_uri": "https://localhost:8080/"
        },
        "id": "Y_IL_UcjyzgY",
        "outputId": "f960668a-c1f5-48f1-db2d-021dd7e2aac8"
      },
      "execution_count": null,
      "outputs": [
        {
          "output_type": "stream",
          "name": "stdout",
          "text": [
            "Juan\n"
          ]
        }
      ]
    },
    {
      "cell_type": "code",
      "source": [
        "# Agregar o modificar elementos\n",
        "mi_diccionario[\"edad\"] = 31\n",
        "mi_diccionario[\"profesion\"] = \"Ingeniero\" # Note que esta llave no existía, por lo que se crea.\n",
        "print(mi_diccionario)"
      ],
      "metadata": {
        "colab": {
          "base_uri": "https://localhost:8080/"
        },
        "id": "2gQGebS3y4FU",
        "outputId": "5879d7f4-bc84-4f98-d1ed-ed9de1349027"
      },
      "execution_count": null,
      "outputs": [
        {
          "output_type": "stream",
          "name": "stdout",
          "text": [
            "{'nombre': 'Juan', 'edad': 31, 'ciudad': 'Madrid', 'profesion': 'Ingeniero'}\n"
          ]
        }
      ]
    },
    {
      "cell_type": "code",
      "source": [
        "# Eliminar elementos\n",
        "del mi_diccionario[\"ciudad\"]\n",
        "print(mi_diccionario)"
      ],
      "metadata": {
        "colab": {
          "base_uri": "https://localhost:8080/"
        },
        "id": "Fu6acffXzARG",
        "outputId": "462993df-8e62-40c5-ede1-46a48e923f38"
      },
      "execution_count": null,
      "outputs": [
        {
          "output_type": "stream",
          "name": "stdout",
          "text": [
            "{'nombre': 'Juan', 'edad': 31, 'profesion': 'Ingeniero'}\n"
          ]
        }
      ]
    },
    {
      "cell_type": "code",
      "source": [
        "# Obtener todas las llaves o todos los valores como una lista\n",
        "todos = mi_diccionario.items()\n",
        "claves = mi_diccionario.keys()\n",
        "valores = mi_diccionario.values()\n",
        "print(todos)\n",
        "print(claves)\n",
        "print(valores)"
      ],
      "metadata": {
        "colab": {
          "base_uri": "https://localhost:8080/"
        },
        "id": "AgVNmGbNzDgw",
        "outputId": "1bfcb667-ff41-49a8-84e0-0b219bd4dfc2"
      },
      "execution_count": null,
      "outputs": [
        {
          "output_type": "stream",
          "name": "stdout",
          "text": [
            "dict_items([('nombre', 'Juan'), ('profesion', 'Ingeniero'), ('pais', 'España')])\n",
            "dict_keys(['nombre', 'profesion', 'pais'])\n",
            "dict_values(['Juan', 'Ingeniero', 'España'])\n"
          ]
        }
      ]
    },
    {
      "cell_type": "code",
      "source": [
        "# Definir una variable diccionario\n",
        "futbolistas = dict()\n",
        "\n",
        "futbolistas = {\n",
        "    1: \"Casillas\", 6: \"Iniesta\",3: \"Piqué\",\n",
        "    5: \"Puyol\",\n",
        "    7: \"Villa\", 8: \"Xavi Hernández\",\n",
        "    9: \"Torres\", 11: \"Capdevila\",\n",
        "    14: \"Xavi Alonso\", 15: \"Ramos\",\n",
        "    16: \"Busquets\"\n",
        "}\n",
        "futbolistas.items()"
      ],
      "metadata": {
        "colab": {
          "base_uri": "https://localhost:8080/"
        },
        "id": "paYfj2Ci9ArW",
        "outputId": "c6d91737-a673-4d85-99a5-f5dea038b581"
      },
      "execution_count": null,
      "outputs": [
        {
          "output_type": "execute_result",
          "data": {
            "text/plain": [
              "dict_items([(1, 'Casillas'), (6, 'Iniesta'), (3, 'Piqué'), (5, 'Puyol'), (7, 'Villa'), (8, 'Xavi Hernández'), (9, 'Torres'), (11, 'Capdevila'), (14, 'Xavi Alonso'), (15, 'Ramos'), (16, 'Busquets')])"
            ]
          },
          "metadata": {},
          "execution_count": 54
        }
      ]
    },
    {
      "cell_type": "code",
      "source": [
        "# Métodos para obtener el valor de un diccionario teniendo un valor\n",
        "profesion = mi_diccionario.get(\"profesion\", \"Desconocido\") # Qué pasaría si\n",
        "print(profesion)"
      ],
      "metadata": {
        "colab": {
          "base_uri": "https://localhost:8080/"
        },
        "id": "VptY38-2zGVG",
        "outputId": "66b6c496-8b80-48a5-e23c-c288135f41ad"
      },
      "execution_count": null,
      "outputs": [
        {
          "output_type": "stream",
          "name": "stdout",
          "text": [
            "Ingeniero\n"
          ]
        }
      ]
    },
    {
      "cell_type": "code",
      "source": [
        "# Actualizar\n",
        "otro_diccionario = {\"pais\": \"España\", \"edad\": 32}\n",
        "mi_diccionario.update(otro_diccionario)\n",
        "print(mi_diccionario)"
      ],
      "metadata": {
        "colab": {
          "base_uri": "https://localhost:8080/"
        },
        "id": "7TzXQs6Y0J_X",
        "outputId": "a44f64da-a50e-4008-ab75-3609da5f199d"
      },
      "execution_count": null,
      "outputs": [
        {
          "output_type": "stream",
          "name": "stdout",
          "text": [
            "{'nombre': 'Juan', 'edad': 32, 'profesion': 'Ingeniero', 'pais': 'España'}\n"
          ]
        }
      ]
    },
    {
      "cell_type": "code",
      "source": [
        "# Eliminar\n",
        "edad = mi_diccionario.pop(\"edad\") # Note que queda guardado el elemento eliminado.\n",
        "print(mi_diccionario)\n",
        "print(edad)"
      ],
      "metadata": {
        "colab": {
          "base_uri": "https://localhost:8080/"
        },
        "id": "Smtwv_tr00mU",
        "outputId": "811aa8e0-ed87-4782-baeb-92270ed67606"
      },
      "execution_count": null,
      "outputs": [
        {
          "output_type": "stream",
          "name": "stdout",
          "text": [
            "{'nombre': 'Juan', 'profesion': 'Ingeniero', 'pais': 'España'}\n",
            "32\n"
          ]
        }
      ]
    },
    {
      "cell_type": "markdown",
      "source": [
        "### Ejemplo\n",
        "\n",
        "1.\tCrear un diccionario con información de un libro (título, autor, año).\n",
        "2.\tAgregar una nueva clave-valor para el género del libro.\n",
        "3.\tModificar el año de publicación.\n",
        "4.\tEliminar la clave del género.\n",
        "5.\tObtener todas las claves y valores del diccionario.\n",
        "6.\tObtener el valor de la clave “autor” utilizando get()."
      ],
      "metadata": {
        "id": "ESIdMORg1GVn"
      }
    },
    {
      "cell_type": "code",
      "source": [
        "# Tu código va acá"
      ],
      "metadata": {
        "id": "fFDHTSxs05tX"
      },
      "execution_count": null,
      "outputs": []
    },
    {
      "cell_type": "markdown",
      "source": [
        "## Ejercicio 1: Gestor de Inventario de Equipos de Oficina\n",
        "\n",
        "Crea un programa que gestione el inventario de equipos de oficina para una institución pública. Debe permitir agregar equipos con su nombre, cantidad y estado (nuevo, usado, en reparación). Además, debe permitir actualizar la cantidad de un equipo, cambiar el estado de un equipo, eliminar un equipo y mostrar el inventario completo.\n",
        "\n",
        "1.\tCrear un diccionario para el inventario.\n",
        "2.\tAgregar al menos tres equipos al inventario con su nombre, cantidad y estado.\n",
        "3.\tModificar la cantidad de uno de los equipos.\n",
        "4.\tCambiar el estado de uno de los equipos.\n",
        "5.\tEliminar uno de los equipos.\n",
        "6.\tImprimir el inventario completo, mostrando el nombre, cantidad y estado de cada equipo."
      ],
      "metadata": {
        "id": "tKhYE5CZ1jyC"
      }
    },
    {
      "cell_type": "code",
      "source": [
        "inventario = {\n",
        "    \"Impresora\": {\"cantidad\": 10, \"estado\": \"nuevo\"},\n",
        "    \"Computadora\": {\"cantidad\": 5, \"estado\": \"usado\"},\n",
        "    \"Escáner\": {\"cantidad\": 2, \"estado\": \"en reparación\"}\n",
        "}\n",
        "\n",
        "# Tu código va acá"
      ],
      "metadata": {
        "id": "5g1PI8QN10ww"
      },
      "execution_count": null,
      "outputs": []
    },
    {
      "cell_type": "markdown",
      "source": [
        "## Ejercicio 2: Análisis de Datos de Encuestas de Satisfacción\n",
        "\n",
        "Crea un programa que analice los resultados de una encuesta de satisfacción de los usuarios de un servicio público. Debe permitir agregar la información de los usuarios encuestados, incluyendo su edad, nivel de satisfacción (de 1 a 5) y comentarios. Además, debe calcular la satisfacción promedio y mostrar todos los datos almacenados.\n",
        "\n",
        "1.\tCrear una lista para almacenar los datos de los usuarios encuestados.\n",
        "2.\tAgregar al menos cinco usuarios a la lista, donde cada usuario se representa como un diccionario con su edad, nivel de satisfacción y comentarios.\n",
        "3.\tCalcular el nivel de satisfacción promedio de los usuarios encuestados.\n",
        "4.\tImprimir la lista completa de usuarios, mostrando edad, nivel de satisfacción y comentarios de cada uno.\n"
      ],
      "metadata": {
        "id": "xdLz13gX1xiP"
      }
    },
    {
      "cell_type": "code",
      "source": [
        "encuestados = [\n",
        "    {\"edad\": 25, \"satisfaccion\": 4, \"comentarios\": \"Buen servicio\"},\n",
        "    {\"edad\": 30, \"satisfaccion\": 5, \"comentarios\": \"Excelente\"},\n",
        "    {\"edad\": 45, \"satisfaccion\": 3, \"comentarios\": \"Regular\"},\n",
        "    {\"edad\": 50, \"satisfaccion\": 2, \"comentarios\": \"Malo\"},\n",
        "    {\"edad\": 35, \"satisfaccion\": 4, \"comentarios\": \"Bueno\"}\n",
        "]\n",
        "\n",
        "# Tu código va acá"
      ],
      "metadata": {
        "id": "y4Ot6gMo1MxA"
      },
      "execution_count": null,
      "outputs": []
    },
    {
      "cell_type": "code",
      "source": [],
      "metadata": {
        "id": "YKWIhJkQ2Xq2"
      },
      "execution_count": null,
      "outputs": []
    }
  ]
}