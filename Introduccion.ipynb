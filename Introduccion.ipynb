{
  "nbformat": 4,
  "nbformat_minor": 0,
  "metadata": {
    "colab": {
      "provenance": [],
      "collapsed_sections": [
        "qWCVeYNctZwj",
        "8vr3Q_a0t_Bo",
        "bEPK8O9QvYjJ",
        "pEWLqfkdFglt",
        "7vqC6nzrHWZQ",
        "EzJzFjRrB371",
        "Zssd0fTZC-ue",
        "Mep-c99BER30",
        "djZdRTwE2ARG",
        "C0uFKTHS2V9R",
        "FV1IABd2zDtv",
        "LTNY_AKq3-dY"
      ],
      "toc_visible": true
    },
    "kernelspec": {
      "name": "python3",
      "display_name": "Python 3"
    },
    "language_info": {
      "name": "python"
    }
  },
  "cells": [
    {
      "cell_type": "markdown",
      "source": [
        "# Primeros pasos\n",
        "\n",
        "* Python es un lenguaje de programación de alto nivel, interpretado y de propósito general.\n",
        "\n",
        "* Fue creado por Guido van Rossum y lanzado por primera vez en 1991.\n",
        "* Es conocido por su sintaxis clara y su enfoque en la legibilidad del código, lo que lo hace ideal para principiantes y profesionales.\n",
        "\n",
        "<img src=\"https://prepinstadotcom.s3.ap-south-1.amazonaws.com/wp-content/uploads/2020/07/python-removebg-preview.webp\" width=200>\n",
        "\n",
        "## Entorno de trabajo\n",
        "\n",
        "Colab, o “Colaboratory”, te permite escribir y ejecutar código de Python en tu navegador, con:\n",
        "\n",
        "* Una configuración lista para que empieces a programar\n",
        "* Acceso gratuito a GPU\n",
        "* Facilidad para compartir\n",
        "\n",
        "Seas **estudiante**, **científico de datos** o **investigador de IA**, Colab facilita tu trabajo.\n",
        "\n",
        "<img src=\"https://colab.research.google.com/img/colab_favicon_256px.png\">"
      ],
      "metadata": {
        "id": "xVKHfH7IrnmW"
      }
    },
    {
      "cell_type": "markdown",
      "source": [
        "## Hola Mundo en python"
      ],
      "metadata": {
        "id": "qWCVeYNctZwj"
      }
    },
    {
      "cell_type": "code",
      "execution_count": 1,
      "metadata": {
        "id": "YGfe9LXCrThA",
        "colab": {
          "base_uri": "https://localhost:8080/"
        },
        "outputId": "d0615388-12a5-4b31-f982-1c0e2c2cc95b"
      },
      "outputs": [
        {
          "output_type": "stream",
          "name": "stdout",
          "text": [
            "Hola Mundo!\n"
          ]
        }
      ],
      "source": [
        "print(\"Hola Mundo!\")"
      ]
    },
    {
      "cell_type": "markdown",
      "source": [
        "A fin de ejecutar el código en la celda anterior, haz clic en él para seleccionarlo y luego presiona el botón de reproducción ubicado a la izquierda del código o usa la combinación de teclas “Command/Ctrl + Intro”. Para editar el código, solo haz clic en la celda y comienza a editar."
      ],
      "metadata": {
        "id": "hconX_hktIA9"
      }
    },
    {
      "cell_type": "code",
      "source": [
        "# Escribe el código para imprimir un saludo personalizado con tu nombre...\n",
        "print(\"Hola Natalia!\")"
      ],
      "metadata": {
        "id": "jG2ZCRahtHv_",
        "colab": {
          "base_uri": "https://localhost:8080/"
        },
        "outputId": "d5a51db9-5942-41ee-b5f6-a572a1020bfb"
      },
      "execution_count": 2,
      "outputs": [
        {
          "output_type": "stream",
          "name": "stdout",
          "text": [
            "Hola Natalia!\n"
          ]
        }
      ]
    },
    {
      "cell_type": "markdown",
      "source": [
        "## ¿Qué son variables?\n",
        "\n",
        "En Python, una variable es un contenedor para almacenar datos.\n",
        "Los tipos de datos básicos incluyen enteros **(int)**, flotantes **(float)**, cadenas **(str)** y booleanos **(bool)**.\n",
        "\n",
        "<img src=\"https://static.platzi.com/media/user_upload/variables-en-programacion-607799e5-10f1-44d7-abb3-58e8c0be0f58.jpg\">"
      ],
      "metadata": {
        "id": "8vr3Q_a0t_Bo"
      }
    },
    {
      "cell_type": "code",
      "source": [
        "# Vamos a crear nuestra primer variable\n",
        "x = 5"
      ],
      "metadata": {
        "id": "TSg_sQe3t-xp"
      },
      "execution_count": 6,
      "outputs": []
    },
    {
      "cell_type": "code",
      "source": [
        "# Veamos ahora el contenido de la variable\n",
        "print(x)"
      ],
      "metadata": {
        "colab": {
          "base_uri": "https://localhost:8080/"
        },
        "id": "TM7HPo8vvExp",
        "outputId": "bd30ae07-dc19-4047-9307-ba8dfcf9b5ea"
      },
      "execution_count": 7,
      "outputs": [
        {
          "output_type": "stream",
          "name": "stdout",
          "text": [
            "5\n"
          ]
        }
      ]
    },
    {
      "cell_type": "code",
      "source": [
        "# ¿Cómo validar el tipo de variable que es?\n",
        "type(x)"
      ],
      "metadata": {
        "colab": {
          "base_uri": "https://localhost:8080/"
        },
        "id": "Hg_qtvzyvI_f",
        "outputId": "c191d180-25f0-4062-e0c1-9d52460d608c"
      },
      "execution_count": 8,
      "outputs": [
        {
          "output_type": "execute_result",
          "data": {
            "text/plain": [
              "int"
            ]
          },
          "metadata": {},
          "execution_count": 8
        }
      ]
    },
    {
      "cell_type": "markdown",
      "source": [
        "## Tipos de variables\n",
        "\n",
        "Existen muchas formas de almacenar información en variables."
      ],
      "metadata": {
        "id": "bEPK8O9QvYjJ"
      }
    },
    {
      "cell_type": "code",
      "source": [
        "# Números enteros\n",
        "\n",
        "a = 2\n",
        "print(a)"
      ],
      "metadata": {
        "colab": {
          "base_uri": "https://localhost:8080/"
        },
        "id": "rMI2djfKvV7j",
        "outputId": "c609bc3b-985d-4139-d743-079aec68b45f"
      },
      "execution_count": 9,
      "outputs": [
        {
          "output_type": "stream",
          "name": "stdout",
          "text": [
            "2\n"
          ]
        }
      ]
    },
    {
      "cell_type": "code",
      "source": [
        "# Números reales\n",
        "\n",
        "b = 12.5\n",
        "print(b)"
      ],
      "metadata": {
        "colab": {
          "base_uri": "https://localhost:8080/"
        },
        "id": "xVmAyGr5wbid",
        "outputId": "f159d669-75b6-4aa8-d005-defc7cd51eb5"
      },
      "execution_count": 10,
      "outputs": [
        {
          "output_type": "stream",
          "name": "stdout",
          "text": [
            "12.5\n"
          ]
        }
      ]
    },
    {
      "cell_type": "code",
      "source": [
        "# String (Cadena de caracteres)\n",
        "\n",
        "# Veamos como declarar letras\n",
        "\n",
        "letra = \"A\"\n",
        "print(letra)"
      ],
      "metadata": {
        "colab": {
          "base_uri": "https://localhost:8080/"
        },
        "id": "Qj9tCerQwgxH",
        "outputId": "9f04c911-ad16-4d30-fe3b-d210e715a997"
      },
      "execution_count": 11,
      "outputs": [
        {
          "output_type": "stream",
          "name": "stdout",
          "text": [
            "A\n"
          ]
        }
      ]
    },
    {
      "cell_type": "code",
      "source": [
        "# Ahora texto más largo\n",
        "\n",
        "nombre = \"Andres\"\n",
        "print(nombre)"
      ],
      "metadata": {
        "colab": {
          "base_uri": "https://localhost:8080/"
        },
        "id": "NfAg-YiRxHCu",
        "outputId": "c27da89c-77e0-4ac4-8294-a866efcd5de9"
      },
      "execution_count": 12,
      "outputs": [
        {
          "output_type": "stream",
          "name": "stdout",
          "text": [
            "Andres\n"
          ]
        }
      ]
    },
    {
      "cell_type": "code",
      "source": [
        "# Una frase completa\n",
        "frase_completa = \"Este es un ejemplo de frase muy larga\"\n",
        "print(frase_completa)"
      ],
      "metadata": {
        "colab": {
          "base_uri": "https://localhost:8080/"
        },
        "id": "_Ln1qd6xxPIz",
        "outputId": "41c1e7f9-1b37-4d01-aca3-aae027006710"
      },
      "execution_count": 13,
      "outputs": [
        {
          "output_type": "stream",
          "name": "stdout",
          "text": [
            "Este es un ejemplo de frase muy larga\n"
          ]
        }
      ]
    },
    {
      "cell_type": "code",
      "source": [
        "# Texto con saltos de linea demasiado largos\n",
        "\n",
        "bloque_texto = \"\"\" Este es un bloque de texto\n",
        "que me permite escribir texto en varias lineas\n",
        "\n",
        "y poder colocar bloques grandes de texto\n",
        "\n",
        "- también se pueden colocar viñetas\n",
        "- listado de elementos y muchas otras cosas\n",
        "\n",
        "este texto tiene 9 líneas\n",
        "\n",
        "\"\"\"\n",
        "\n",
        "print(bloque_texto)"
      ],
      "metadata": {
        "colab": {
          "base_uri": "https://localhost:8080/"
        },
        "id": "8rWU7mJGx76R",
        "outputId": "fcfb2303-1a8c-4b8f-ad52-22def6565ef7"
      },
      "execution_count": 14,
      "outputs": [
        {
          "output_type": "stream",
          "name": "stdout",
          "text": [
            " Este es un bloque de texto\n",
            "que me permite escribir texto en varias lineas\n",
            "\n",
            "y poder colocar bloques grandes de texto\n",
            "\n",
            "- también se pueden colocar viñetas\n",
            "- listado de elementos y muchas otras cosas\n",
            "\n",
            "este texto tiene 9 líneas\n",
            "\n",
            "\n"
          ]
        }
      ]
    },
    {
      "cell_type": "code",
      "source": [
        "# Booleanos\n",
        "\n",
        "bandera = True\n",
        "print(bandera)"
      ],
      "metadata": {
        "colab": {
          "base_uri": "https://localhost:8080/"
        },
        "id": "eVGqIWVl1MQA",
        "outputId": "4693e614-be27-43b8-d1f7-0cecc75303c8"
      },
      "execution_count": 15,
      "outputs": [
        {
          "output_type": "stream",
          "name": "stdout",
          "text": [
            "True\n"
          ]
        }
      ]
    },
    {
      "cell_type": "code",
      "source": [
        "# Booleanos 2\n",
        "\n",
        "esEstudiante = False\n",
        "print(esEstudiante)"
      ],
      "metadata": {
        "colab": {
          "base_uri": "https://localhost:8080/"
        },
        "id": "d9Mi-WZg1VPg",
        "outputId": "ed56f9c8-0f3c-43d8-95df-79cabd763950"
      },
      "execution_count": 16,
      "outputs": [
        {
          "output_type": "stream",
          "name": "stdout",
          "text": [
            "False\n"
          ]
        }
      ]
    },
    {
      "cell_type": "code",
      "source": [
        "# Booleanos\n",
        "\n",
        "tieneCertificado = bool(1) # bool(0)\n",
        "print(tieneCertificado)\n",
        "print(type(tieneCertificado))"
      ],
      "metadata": {
        "colab": {
          "base_uri": "https://localhost:8080/"
        },
        "id": "V3fmH0jt1c5c",
        "outputId": "d2a1d85b-2339-4a53-ee53-ad7c8fb016fd"
      },
      "execution_count": 19,
      "outputs": [
        {
          "output_type": "stream",
          "name": "stdout",
          "text": [
            "True\n",
            "<class 'bool'>\n"
          ]
        }
      ]
    },
    {
      "cell_type": "code",
      "source": [
        "# Listas\n",
        "\n",
        "lista = [ 3, 2.8, 5, 'hola', True, [1,5,6] ]\n",
        "print(lista)\n",
        "print(type(lista))"
      ],
      "metadata": {
        "colab": {
          "base_uri": "https://localhost:8080/"
        },
        "id": "QEtIe6fg4kai",
        "outputId": "76db0807-e2d5-45e6-dafc-fada010e878f"
      },
      "execution_count": 20,
      "outputs": [
        {
          "output_type": "stream",
          "name": "stdout",
          "text": [
            "[3, 2.8, 5, 'hola', True, [1, 5, 6]]\n",
            "<class 'list'>\n"
          ]
        }
      ]
    },
    {
      "cell_type": "markdown",
      "source": [
        "<img src=\"https://s3-us-west-2.amazonaws.com/devcodepro/media/tutorials/listas-python-t1.jpg\" width=400>"
      ],
      "metadata": {
        "id": "9tUlPwIe5D9Z"
      }
    },
    {
      "cell_type": "markdown",
      "source": [
        "### Imprimir texto dando formato a la salida\n",
        "\n",
        "Existen diferentes formas de imprimir el contenido de las variables en python y dar un formato específico a los que se quiere mostrar por pantalla"
      ],
      "metadata": {
        "id": "79zn-st2_jzN"
      }
    },
    {
      "cell_type": "code",
      "source": [
        "# 1. Usar varios comandos print\n",
        "nombre = \"Alvaro\"\n",
        "print(\"Hola, mi nombre es:\")\n",
        "print(nombre)"
      ],
      "metadata": {
        "colab": {
          "base_uri": "https://localhost:8080/"
        },
        "id": "VRYvD4JE_jYx",
        "outputId": "1ec83504-bff0-4bed-bdcd-dbe59d0e6006"
      },
      "execution_count": 21,
      "outputs": [
        {
          "output_type": "stream",
          "name": "stdout",
          "text": [
            "Hola, mi nombre es:\n",
            "Alvaro\n"
          ]
        }
      ]
    },
    {
      "cell_type": "code",
      "source": [
        "# 2. Utilizar comas (,) para separar el contenido\n",
        "nombre = \"Alvaro\"\n",
        "edad = 25\n",
        "print(\"Hola, soy \",nombre,\"y tengo \", edad, \"años\")"
      ],
      "metadata": {
        "colab": {
          "base_uri": "https://localhost:8080/"
        },
        "id": "k0aF1HObAZBi",
        "outputId": "dd753f5c-47e5-4c9a-97ca-0dcdc0a576e9"
      },
      "execution_count": 22,
      "outputs": [
        {
          "output_type": "stream",
          "name": "stdout",
          "text": [
            "Hola, soy  Alvaro y tengo  25 años\n"
          ]
        }
      ]
    },
    {
      "cell_type": "code",
      "source": [
        "# 3. Utilizar un formatted string\n",
        "nombre = \"Álvaro\"\n",
        "edad = 18\n",
        "cargo = \"Jefe de proyecto\"\n",
        "promedio = 4.5\n",
        "\n",
        "cadena = f\"El estudiante {nombre}, {cargo} tiene {edad} años y un promedio de {promedio} \"\n",
        "print(cadena)\n",
        "print(type(cadena))"
      ],
      "metadata": {
        "colab": {
          "base_uri": "https://localhost:8080/"
        },
        "id": "gimJbhyrCcCq",
        "outputId": "96827a44-b009-4ca0-e22f-f6fff36fb874"
      },
      "execution_count": 25,
      "outputs": [
        {
          "output_type": "stream",
          "name": "stdout",
          "text": [
            "El estudiante Álvaro, Jefe de proyecto tiene 18 años y un promedio de 4.5 \n",
            "<class 'str'>\n"
          ]
        }
      ]
    },
    {
      "cell_type": "markdown",
      "source": [
        "### Ejercicio 1.\n",
        "\n",
        "Crea una variable llamada 'edad' y asígnale el valor de tu edad. Imprime el valor y el tipo de dato.\n"
      ],
      "metadata": {
        "id": "I3R0dslOykwZ"
      }
    },
    {
      "cell_type": "code",
      "source": [
        "# Escribe tu solución acá.\n",
        "edad = 21\n",
        "\n",
        "print(edad)\n",
        "print(type(edad))\n",
        "\n",
        "combinacion = f\"Mi edad es {edad}, y es de tipo {type(edad)}\"\n",
        "print(combinacion)\n",
        "\n",
        "print(\"Soy Natalia, tengo\", edad, \"años, y esta variable es de tipo\", type(edad))"
      ],
      "metadata": {
        "id": "Pi8iftNXx_fa",
        "colab": {
          "base_uri": "https://localhost:8080/"
        },
        "outputId": "09b174c2-ee64-47f2-8345-b9c93e5ddb99"
      },
      "execution_count": 26,
      "outputs": [
        {
          "output_type": "stream",
          "name": "stdout",
          "text": [
            "21\n",
            "<class 'int'>\n",
            "Mi edad es 21, y es de tipo <class 'int'>\n",
            "Soy Natalia, tengo 21 años, y esta variable es de tipo <class 'int'>\n"
          ]
        }
      ]
    },
    {
      "cell_type": "markdown",
      "source": [
        "### Ejercicio 2.\n",
        "\n",
        "Imagina que estás desarrollando un programa para recopilar y analizar información personal básica de empleados de una institución pública. Este programa debe ser capaz de almacenar datos personales, verificar ciertos atributos y realizar algunas operaciones básicas con ellos. Los datos que necesitas recolectar incluyen la edad, la altura, el cargo de la persona y si la persona está actualmente estudiando.\n",
        "\n",
        "**Crea variables para almacenar la información de 3 colaboradores e imprimir la información de ellos.**"
      ],
      "metadata": {
        "id": "zov6KUx10Lip"
      }
    },
    {
      "cell_type": "code",
      "source": [
        "# Escribe tu solución acá.\n",
        "\n",
        "#Colaborador 1\n",
        "edad1 = 20\n",
        "altura1 = 1.75\n",
        "cargo1 = \"profesor\"\n",
        "esEstudiante1 = False\n",
        "\n",
        "#Colaborador 2\n",
        "edad2 = 21\n",
        "altura2 = 1.60\n",
        "cargo2 = \"estudiante\"\n",
        "esEstudiante2 = True\n",
        "\n",
        "#Colaborador 3\n",
        "edad3 = 22\n",
        "altura3 = 1.80\n",
        "cargo3 = \"estudiante\"\n",
        "esEstudiante3 = True\n",
        "\n",
        "print(f\"Colaborador 1: edad: {edad1}, altura: {altura1}, cargo: {cargo1}, es estudiante: {esEstudiante1}\")\n",
        "print(f\"Colaborador 2: edad: {edad2}, altura: {altura2}, cargo: {cargo2}, es estudiante: {esEstudiante2}\")\n",
        "print(f\"Colaborador 3: edad: {edad3}, altura: {altura3}, cargo: {cargo3}, es estudiante: {esEstudiante3}\")"
      ],
      "metadata": {
        "id": "iWgIKhBD1D-8",
        "colab": {
          "base_uri": "https://localhost:8080/"
        },
        "outputId": "f72c6509-3c3b-4929-b7ac-f5a7f2c3946b"
      },
      "execution_count": 30,
      "outputs": [
        {
          "output_type": "stream",
          "name": "stdout",
          "text": [
            "Colaborador 1: edad: 20, altura: 1.75, cargo: profesor, es estudiante: False\n",
            "Colaborador 2: edad: 21, altura: 1.6, cargo: estudiante, es estudiante: True\n",
            "Colaborador 3: edad: 22, altura: 1.8, cargo: estudiante, es estudiante: True\n"
          ]
        }
      ]
    },
    {
      "cell_type": "markdown",
      "source": [
        "## Operaciones Aritméticas\n",
        "\n",
        "<table>\n",
        "<thead>\n",
        "<tr>\n",
        "<th style=\"text-align:center\">Operador</th>\n",
        "<th style=\"text-align:center\">Descripción</th>\n",
        "<th style=\"text-align:center\">Uso</th>\n",
        "</tr>\n",
        "</thead>\n",
        "<tbody>\n",
        "<tr>\n",
        "<td style=\"text-align:center\">+</td>\n",
        "<td style=\"text-align:center\">Realiza Adición entre los operandos</td>\n",
        "<td style=\"text-align:center\">12 + 3 = 15</td>\n",
        "</tr>\n",
        "<tr>\n",
        "<td style=\"text-align:center\">-</td>\n",
        "<td style=\"text-align:center\">Realiza Substracción entre los operandos</td>\n",
        "<td style=\"text-align:center\">12 - 3 = 9</td>\n",
        "</tr>\n",
        "<tr>\n",
        "<td style=\"text-align:center\">*</td>\n",
        "<td style=\"text-align:center\">Realiza Multiplicación entre los operandos</td>\n",
        "<td style=\"text-align:center\">12 * 3 = 36</td>\n",
        "</tr>\n",
        "<tr>\n",
        "<td style=\"text-align:center\">/</td>\n",
        "<td style=\"text-align:center\">Realiza División entre los operandos</td>\n",
        "<td style=\"text-align:center\">12 / 3 = 4</td>\n",
        "</tr>\n",
        "<tr>\n",
        "<td style=\"text-align:center\">%</td>\n",
        "<td style=\"text-align:center\">Realiza un módulo entre los operandos</td>\n",
        "<td style=\"text-align:center\">16 % 3 = 1</td>\n",
        "</tr>\n",
        "<tr>\n",
        "<td style=\"text-align:center\">**</td>\n",
        "<td style=\"text-align:center\">Realiza la potencia de los operandos</td>\n",
        "<td style=\"text-align:center\">12 ** 3 = 1728</td>\n",
        "</tr>\n",
        "<tr>\n",
        "<td style=\"text-align:center\">//</td>\n",
        "<td style=\"text-align:center\">Realiza la división con resultado de número entero</td>\n",
        "<td style=\"text-align:center\">18 // 5 = 3</td>\n",
        "</tr>\n",
        "</tbody>\n",
        "</table>"
      ],
      "metadata": {
        "id": "pEWLqfkdFglt"
      }
    },
    {
      "cell_type": "code",
      "source": [
        "# Suma y resta\n",
        "print(\"Suma = \", 4+5)\n",
        "print(\"Resta = \", 4-5)"
      ],
      "metadata": {
        "colab": {
          "base_uri": "https://localhost:8080/"
        },
        "id": "lH91tBwAFi9X",
        "outputId": "2162f4ce-0773-4414-fe65-4a172bc5732f"
      },
      "execution_count": 31,
      "outputs": [
        {
          "output_type": "stream",
          "name": "stdout",
          "text": [
            "Suma =  9\n",
            "Resta =  -1\n"
          ]
        }
      ]
    },
    {
      "cell_type": "code",
      "source": [
        "# Multiplicación y División\n",
        "\n",
        "a = 10\n",
        "b = 3\n",
        "\n",
        "print(\"Multiplicación = \", a*b)\n",
        "print(\"División = \", a/b)\n",
        "print(\"División entera = \", a//b)"
      ],
      "metadata": {
        "colab": {
          "base_uri": "https://localhost:8080/"
        },
        "id": "4bp1lYOtGnpd",
        "outputId": "d95450ff-0978-4f81-b581-cd89da7f43a0"
      },
      "execution_count": 32,
      "outputs": [
        {
          "output_type": "stream",
          "name": "stdout",
          "text": [
            "Multiplicación =  30\n",
            "División =  3.3333333333333335\n",
            "División entera =  3\n"
          ]
        }
      ]
    },
    {
      "cell_type": "code",
      "source": [
        "c = a//b\n",
        "print(c)\n",
        "\n",
        "# Tipo de variable 'c'\n",
        "print(type(c))"
      ],
      "metadata": {
        "colab": {
          "base_uri": "https://localhost:8080/"
        },
        "id": "6AxRdiROAube",
        "outputId": "f20e4bb3-9107-431b-d981-fdf6b821c059"
      },
      "execution_count": 33,
      "outputs": [
        {
          "output_type": "stream",
          "name": "stdout",
          "text": [
            "3\n",
            "<class 'int'>\n"
          ]
        }
      ]
    },
    {
      "cell_type": "code",
      "source": [
        "a = 6\n",
        "b = 2\n",
        "c = 2."
      ],
      "metadata": {
        "id": "9jT8mhe8AyyS"
      },
      "execution_count": 34,
      "outputs": []
    },
    {
      "cell_type": "code",
      "source": [
        "# Tipo de variable 'a'\n",
        "print(type(a))\n",
        "\n",
        "# Tipo de variable 'b'\n",
        "print(type(b))\n",
        "\n",
        "# Tipo de variable 'c'\n",
        "print(type(c))"
      ],
      "metadata": {
        "colab": {
          "base_uri": "https://localhost:8080/"
        },
        "id": "KQroxbiiAz7E",
        "outputId": "7718de20-345d-472e-9b82-100cd6aac6ee"
      },
      "execution_count": 35,
      "outputs": [
        {
          "output_type": "stream",
          "name": "stdout",
          "text": [
            "<class 'int'>\n",
            "<class 'int'>\n",
            "<class 'float'>\n"
          ]
        }
      ]
    },
    {
      "cell_type": "code",
      "source": [
        "operacion_a = a/b\n",
        "\n",
        "operacion_b = a/c\n",
        "\n",
        "print(operacion_a)\n",
        "# Tipo de dato 'operacion_a'\n",
        "print(type(operacion_a))\n",
        "\n",
        "print(operacion_b)\n",
        "# Tipo de dato 'operacion_b'\n",
        "print(type(operacion_b))"
      ],
      "metadata": {
        "colab": {
          "base_uri": "https://localhost:8080/"
        },
        "id": "2r5ZFe96A361",
        "outputId": "8f1d9960-eaee-4ef3-9ab2-c638eda2dd73"
      },
      "execution_count": 36,
      "outputs": [
        {
          "output_type": "stream",
          "name": "stdout",
          "text": [
            "3.0\n",
            "<class 'float'>\n",
            "3.0\n",
            "<class 'float'>\n"
          ]
        }
      ]
    },
    {
      "cell_type": "code",
      "source": [
        "# Otras operaciones\n",
        "print(\"Residuo = \", 10%3)\n",
        "print(\"Potencia = \", 2**3)\n",
        "print(\"Raiz = \", 2**0.5)"
      ],
      "metadata": {
        "colab": {
          "base_uri": "https://localhost:8080/"
        },
        "id": "EZqtw85_GpUz",
        "outputId": "b8090e58-72fe-4198-8104-7ad95b50c732"
      },
      "execution_count": 44,
      "outputs": [
        {
          "output_type": "stream",
          "name": "stdout",
          "text": [
            "Residuo =  1\n",
            "Potencia =  8\n",
            "Raiz =  1.4142135623730951\n"
          ]
        }
      ]
    },
    {
      "cell_type": "code",
      "source": [
        "# Funciones útiles para operaciones aritméticas\n",
        "print(\"Redondear números= \",round(3.867483,3))\n",
        "print(\"Valor Absoluto= \",abs(-4))\n",
        "print(\"Convertir número a decimal= \",float('3.5'))"
      ],
      "metadata": {
        "colab": {
          "base_uri": "https://localhost:8080/"
        },
        "id": "K9N1KQsoGyAF",
        "outputId": "3a8f6b50-fcc9-4f62-ca14-d430a502256f"
      },
      "execution_count": 45,
      "outputs": [
        {
          "output_type": "stream",
          "name": "stdout",
          "text": [
            "Redondear números=  3.867\n",
            "Valor Absoluto=  4\n",
            "Convertir número a decimal=  3.5\n"
          ]
        }
      ]
    },
    {
      "cell_type": "markdown",
      "source": [
        "## Casteo de variables\n",
        "\n",
        "El casteo de variables es el proceso de convertir una variable de un tipo a otro.\n",
        "\n",
        "Este proceso permite transformar la información, modificarla y realizar operaciones entre variables.\n",
        "<img src=\"https://img.freepik.com/vector-premium/icono-cambio-moneda-o-cambio-dinero-efectivo-dolar-euro-concepto-banca-vector-ilustracion-dibujos-animados-plana-imagen-aislada_101884-1412.jpg\" width=400>\n"
      ],
      "metadata": {
        "id": "7vqC6nzrHWZQ"
      }
    },
    {
      "cell_type": "code",
      "source": [
        "# De cadena a entero\n",
        "cadena = \"123\"\n",
        "entero = int(cadena)\n",
        "print(entero)  # Salida: 123\n",
        "print(type(entero))  # Salida: <class 'int'>"
      ],
      "metadata": {
        "colab": {
          "base_uri": "https://localhost:8080/"
        },
        "id": "AWgLg2BpG_dW",
        "outputId": "a923e8d3-8761-494c-be85-3cebb6a5c236"
      },
      "execution_count": 46,
      "outputs": [
        {
          "output_type": "stream",
          "name": "stdout",
          "text": [
            "123\n",
            "<class 'int'>\n"
          ]
        }
      ]
    },
    {
      "cell_type": "code",
      "source": [
        "# De entero a flotante\n",
        "entero = 5\n",
        "flotante = float(entero)\n",
        "print(flotante)  # Salida: 5.0\n",
        "print(type(flotante))  # Salida: <class 'float'>"
      ],
      "metadata": {
        "colab": {
          "base_uri": "https://localhost:8080/"
        },
        "id": "u-rqejDql-SA",
        "outputId": "6ba75ecd-df05-4151-c6d0-d62cebc42d61"
      },
      "execution_count": 47,
      "outputs": [
        {
          "output_type": "stream",
          "name": "stdout",
          "text": [
            "5.0\n",
            "<class 'float'>\n"
          ]
        }
      ]
    },
    {
      "cell_type": "code",
      "source": [
        "# De flotante a cadena\n",
        "flotante = 3.14\n",
        "cadena = str(flotante)\n",
        "print(cadena)  # Salida: '3.14'\n",
        "print(type(cadena))  # Salida: <class 'str'>"
      ],
      "metadata": {
        "colab": {
          "base_uri": "https://localhost:8080/"
        },
        "id": "4SvGjvFyl_nU",
        "outputId": "35b96c5f-60aa-4f8e-e5ec-6bb599c7e736"
      },
      "execution_count": 48,
      "outputs": [
        {
          "output_type": "stream",
          "name": "stdout",
          "text": [
            "3.14\n",
            "<class 'str'>\n"
          ]
        }
      ]
    },
    {
      "cell_type": "code",
      "source": [
        "# De entero a booleano\n",
        "entero = 0\n",
        "booleano = bool(entero)\n",
        "print(booleano)  # Salida: False\n",
        "print(type(booleano))  # Salida: <class 'bool'>"
      ],
      "metadata": {
        "colab": {
          "base_uri": "https://localhost:8080/"
        },
        "id": "JI7gT9LWmBUc",
        "outputId": "dc384d58-0e3b-48af-d7bb-95dfc834a35a"
      },
      "execution_count": 49,
      "outputs": [
        {
          "output_type": "stream",
          "name": "stdout",
          "text": [
            "False\n",
            "<class 'bool'>\n"
          ]
        }
      ]
    },
    {
      "cell_type": "markdown",
      "source": [
        "### Ejercicio\n",
        "\n",
        "Imagina que estás recopilando datos de una encuesta y necesitas asegurarte de que todos los valores numéricos se traten correctamente. Si los datos se ingresan como cadenas (por ejemplo, desde un formulario web), necesitarás convertir esos valores a enteros o flotantes para realizar cálculos.\n"
      ],
      "metadata": {
        "id": "Siyh_iHTmL5e"
      }
    },
    {
      "cell_type": "code",
      "source": [
        "# Datos de entrada como cadenas\n",
        "edad_cadena = \"30\"\n",
        "altura_cadena = \"1.75\"\n",
        "\n",
        "# Tu código acá.\n",
        "edad_entero = int(edad_cadena)\n",
        "altura_float = float(altura_cadena)\n",
        "\n",
        "print(f\"edad: {edad_entero} {type(edad_entero)}, altura: {altura_float} {type(altura_float)}\")\n",
        "\n"
      ],
      "metadata": {
        "id": "Bo2IIdu-mBr-",
        "colab": {
          "base_uri": "https://localhost:8080/"
        },
        "outputId": "dd2b5df3-bd1e-40e7-ecf2-78d524f53bfe"
      },
      "execution_count": 50,
      "outputs": [
        {
          "output_type": "stream",
          "name": "stdout",
          "text": [
            "edad: 30 <class 'int'>, altura: 1.75 <class 'float'>\n"
          ]
        }
      ]
    },
    {
      "cell_type": "markdown",
      "source": [
        "## Operaciones lógicas y relacionales\n",
        "\n",
        "En programación, las operaciones lógicas son utilizadas para tomar decisiones basadas en condiciones. Estas operaciones devuelven valores booleanos (True o False). Python ofrece varios operadores lógicos que nos permiten realizar estas evaluaciones.\n",
        "\n",
        "<img src=\"https://programacionpython.wordpress.com/wp-content/uploads/2008/07/signos1.jpg\">\n",
        "\n"
      ],
      "metadata": {
        "id": "WN70Ou82pd2Q"
      }
    },
    {
      "cell_type": "code",
      "source": [
        "#m Menor que\n",
        "5<6"
      ],
      "metadata": {
        "colab": {
          "base_uri": "https://localhost:8080/"
        },
        "id": "EFfcl5EosrFd",
        "outputId": "7e77dc24-e584-4f61-a0e6-aa3b632db530"
      },
      "execution_count": 51,
      "outputs": [
        {
          "output_type": "execute_result",
          "data": {
            "text/plain": [
              "True"
            ]
          },
          "metadata": {},
          "execution_count": 51
        }
      ]
    },
    {
      "cell_type": "code",
      "source": [
        "a = 5\n",
        "b = 5\n",
        "a1 = 7\n",
        "b1 = 3\n",
        "c1 = 3"
      ],
      "metadata": {
        "id": "jTvQytCjAJ18"
      },
      "execution_count": 52,
      "outputs": []
    },
    {
      "cell_type": "code",
      "source": [
        "# Mayor que\n",
        "e = a1 > b1\n",
        "print(e)"
      ],
      "metadata": {
        "colab": {
          "base_uri": "https://localhost:8080/"
        },
        "id": "tmzRWlTgAH_G",
        "outputId": "bb25a5b9-4f02-4119-c647-4bb3e234c0da"
      },
      "execution_count": 53,
      "outputs": [
        {
          "output_type": "stream",
          "name": "stdout",
          "text": [
            "True\n"
          ]
        }
      ]
    },
    {
      "cell_type": "code",
      "source": [
        "# Menor que\n",
        "f = b1 < a1\n",
        "print(f)"
      ],
      "metadata": {
        "colab": {
          "base_uri": "https://localhost:8080/"
        },
        "id": "ST6WrbNtAOJy",
        "outputId": "4b484e6c-29a6-48ea-eae0-249b1550d110"
      },
      "execution_count": 54,
      "outputs": [
        {
          "output_type": "stream",
          "name": "stdout",
          "text": [
            "True\n"
          ]
        }
      ]
    },
    {
      "cell_type": "code",
      "source": [
        "# Mayor o igual que\n",
        "g = b1 >= c1\n",
        "print(g)"
      ],
      "metadata": {
        "colab": {
          "base_uri": "https://localhost:8080/"
        },
        "id": "kK3-7NaAAUnD",
        "outputId": "f1e033db-08ac-4a12-82d8-bd6c595b7f3f"
      },
      "execution_count": 55,
      "outputs": [
        {
          "output_type": "stream",
          "name": "stdout",
          "text": [
            "True\n"
          ]
        }
      ]
    },
    {
      "cell_type": "code",
      "source": [
        "# Menor o igual que\n",
        "h = b1 <= c1\n",
        "print(h)"
      ],
      "metadata": {
        "colab": {
          "base_uri": "https://localhost:8080/"
        },
        "id": "XQdkqFEoAYfe",
        "outputId": "7c00ec50-9e64-4430-d7a5-f5f8c7528d6e"
      },
      "execution_count": 56,
      "outputs": [
        {
          "output_type": "stream",
          "name": "stdout",
          "text": [
            "True\n"
          ]
        }
      ]
    },
    {
      "cell_type": "code",
      "source": [
        "# Igual\n",
        "'Hola' == 'Adios'"
      ],
      "metadata": {
        "colab": {
          "base_uri": "https://localhost:8080/"
        },
        "id": "_K0BJKHbst5z",
        "outputId": "df7c5d5e-39b5-4d8c-bd23-e013a8c38a02"
      },
      "execution_count": 57,
      "outputs": [
        {
          "output_type": "execute_result",
          "data": {
            "text/plain": [
              "False"
            ]
          },
          "metadata": {},
          "execution_count": 57
        }
      ]
    },
    {
      "cell_type": "code",
      "source": [
        "cadena1 = 'Adios'\n",
        "cadena2 = 'Bye'\n",
        "\n",
        "cadena0 = cadena1 != cadena2\n",
        "print(cadena0)"
      ],
      "metadata": {
        "colab": {
          "base_uri": "https://localhost:8080/"
        },
        "id": "6vMh4JGQ_88A",
        "outputId": "c08276af-8ba8-4a82-d3f5-f0187569bf0f"
      },
      "execution_count": 58,
      "outputs": [
        {
          "output_type": "stream",
          "name": "stdout",
          "text": [
            "True\n"
          ]
        }
      ]
    },
    {
      "cell_type": "code",
      "source": [
        "# Diferente\n",
        "1 != 0"
      ],
      "metadata": {
        "colab": {
          "base_uri": "https://localhost:8080/"
        },
        "id": "N71ENZilsxkG",
        "outputId": "b85cd46a-21ab-460c-d470-fe7f3b1930e2"
      },
      "execution_count": 59,
      "outputs": [
        {
          "output_type": "execute_result",
          "data": {
            "text/plain": [
              "True"
            ]
          },
          "metadata": {},
          "execution_count": 59
        }
      ]
    },
    {
      "cell_type": "code",
      "source": [
        "True == False"
      ],
      "metadata": {
        "colab": {
          "base_uri": "https://localhost:8080/"
        },
        "id": "ivxAg19Js02H",
        "outputId": "7d4a2196-addb-443e-dbd8-3f61c177ebff"
      },
      "execution_count": 60,
      "outputs": [
        {
          "output_type": "execute_result",
          "data": {
            "text/plain": [
              "False"
            ]
          },
          "metadata": {},
          "execution_count": 60
        }
      ]
    },
    {
      "cell_type": "code",
      "source": [
        "num_1 = 2\n",
        "num_2 = 5\n",
        "num_3 = 2.0001\n",
        "num_4 = 2\n",
        "letra_E = 'E'\n",
        "letra_e = 'e'"
      ],
      "metadata": {
        "id": "_iA5Z8pcBKA-"
      },
      "execution_count": 61,
      "outputs": []
    },
    {
      "cell_type": "code",
      "source": [
        "# Tipo de dato 'num_1'\n",
        "print(\"Tipo de dato 'num_1':\",type(num_1))\n",
        "\n",
        "# Tipo de dato 'num_2'\n",
        "print(\"Tipo de dato 'num_2':\",type(num_2))\n",
        "\n",
        "# Tipo de dato 'num_3'\n",
        "print(\"Tipo de dato 'num_3':\",type(num_3))\n",
        "\n",
        "# Tipo de dato 'num_4'\n",
        "print(\"Tipo de dato 'num_4':\",type(num_4))\n",
        "\n",
        "# Tipo de dato 'letra_E'\n",
        "print(\"Tipo de dato 'letra_E': \",type(letra_E))\n",
        "\n",
        "# Tipo de dato 'letra_e'\n",
        "print(\"Tipo de dato 'letra_E':\",type(letra_e))"
      ],
      "metadata": {
        "colab": {
          "base_uri": "https://localhost:8080/"
        },
        "id": "1Iw2NjUFBK-f",
        "outputId": "7a2f3230-f845-40d2-85ff-a3645442f16b"
      },
      "execution_count": 62,
      "outputs": [
        {
          "output_type": "stream",
          "name": "stdout",
          "text": [
            "Tipo de dato 'num_1': <class 'int'>\n",
            "Tipo de dato 'num_2': <class 'int'>\n",
            "Tipo de dato 'num_3': <class 'float'>\n",
            "Tipo de dato 'num_4': <class 'int'>\n",
            "Tipo de dato 'letra_E':  <class 'str'>\n",
            "Tipo de dato 'letra_E': <class 'str'>\n"
          ]
        }
      ]
    },
    {
      "cell_type": "code",
      "source": [
        "# 2 es mayor que 5?\n",
        "print(num_1 > num_2)"
      ],
      "metadata": {
        "colab": {
          "base_uri": "https://localhost:8080/"
        },
        "id": "QA2RZxtgBnvu",
        "outputId": "3a37dadc-e151-4f9d-997e-15fb8811c896"
      },
      "execution_count": 63,
      "outputs": [
        {
          "output_type": "stream",
          "name": "stdout",
          "text": [
            "False\n"
          ]
        }
      ]
    },
    {
      "cell_type": "code",
      "source": [
        "# 2 es menor que 5?\n",
        "print(num_1 < num_2)"
      ],
      "metadata": {
        "colab": {
          "base_uri": "https://localhost:8080/"
        },
        "id": "5B_mWGcSBorW",
        "outputId": "cffb5d88-c985-4280-c67e-b0146dc8ad62"
      },
      "execution_count": 64,
      "outputs": [
        {
          "output_type": "stream",
          "name": "stdout",
          "text": [
            "True\n"
          ]
        }
      ]
    },
    {
      "cell_type": "code",
      "source": [
        "# 2 es mayor o igual que 5?\n",
        "print(num_1 >= num_2)"
      ],
      "metadata": {
        "colab": {
          "base_uri": "https://localhost:8080/"
        },
        "id": "skBvA00fBsLO",
        "outputId": "2eb4d454-3670-4bc1-bc69-1b707627b330"
      },
      "execution_count": 65,
      "outputs": [
        {
          "output_type": "stream",
          "name": "stdout",
          "text": [
            "False\n"
          ]
        }
      ]
    },
    {
      "cell_type": "code",
      "source": [
        "# 2 es menor o igual que 5?\n",
        "print(num_1 <= num_2)\n",
        "\n",
        "# 2 es menor o igual que 2?\n",
        "print(num_1 <= num_4)"
      ],
      "metadata": {
        "colab": {
          "base_uri": "https://localhost:8080/"
        },
        "id": "HRseVX-pBsIf",
        "outputId": "fe37122e-9213-48b1-f089-722687a34869"
      },
      "execution_count": 66,
      "outputs": [
        {
          "output_type": "stream",
          "name": "stdout",
          "text": [
            "True\n",
            "True\n"
          ]
        }
      ]
    },
    {
      "cell_type": "code",
      "source": [
        "# 2 es igual a 2.0001?\n",
        "print(num_1 == num_3)"
      ],
      "metadata": {
        "colab": {
          "base_uri": "https://localhost:8080/"
        },
        "id": "XOMsdTwOBsCc",
        "outputId": "f4ad04b8-c35c-4c80-c3b3-a514fe29869b"
      },
      "execution_count": 67,
      "outputs": [
        {
          "output_type": "stream",
          "name": "stdout",
          "text": [
            "False\n"
          ]
        }
      ]
    },
    {
      "cell_type": "code",
      "source": [
        "# 2 es diferente a 2.0001?\n",
        "print(num_1 != num_3)"
      ],
      "metadata": {
        "colab": {
          "base_uri": "https://localhost:8080/"
        },
        "id": "-0xr0qVvBr6C",
        "outputId": "d5d04a4c-df62-4102-ce28-6185c5157985"
      },
      "execution_count": 68,
      "outputs": [
        {
          "output_type": "stream",
          "name": "stdout",
          "text": [
            "True\n"
          ]
        }
      ]
    },
    {
      "cell_type": "code",
      "source": [
        "# la letra 'E' es diferente a la letra 'e'?\n",
        "print(letra_E != letra_e);"
      ],
      "metadata": {
        "id": "eI9JBU5zBzqE",
        "colab": {
          "base_uri": "https://localhost:8080/"
        },
        "outputId": "29ab31d0-4fc2-410c-81d4-1d52e4b21ffa"
      },
      "execution_count": 69,
      "outputs": [
        {
          "output_type": "stream",
          "name": "stdout",
          "text": [
            "True\n"
          ]
        }
      ]
    },
    {
      "cell_type": "markdown",
      "source": [
        "### AND\n",
        "\n",
        "*Este operador devuelve True si ambas condiciones son **True**.*\n",
        "\n",
        "<img src=\"https://www.circuitspedia.com/wp-content/uploads/2018/12/AND-gate-..gif\">\n"
      ],
      "metadata": {
        "id": "A8MsmkN5sGo-"
      }
    },
    {
      "cell_type": "code",
      "source": [
        "resultado = (5 > 3) and (10 < 20)\n",
        "print(resultado)"
      ],
      "metadata": {
        "colab": {
          "base_uri": "https://localhost:8080/"
        },
        "id": "YoJGB4-rp7MS",
        "outputId": "d17835f2-669f-4fd0-e858-9eaa751b9c8d"
      },
      "execution_count": 70,
      "outputs": [
        {
          "output_type": "stream",
          "name": "stdout",
          "text": [
            "True\n"
          ]
        }
      ]
    },
    {
      "cell_type": "markdown",
      "source": [
        "### OR\n",
        "\n",
        "*Este operador devuelve True si al menos una de las condiciones es **True**.*\n",
        "\n",
        "<img src=\"https://miro.medium.com/v2/resize:fit:1000/0*9yrqkCGWlHgadEtI.gif\">"
      ],
      "metadata": {
        "id": "MtBohmRMsSQP"
      }
    },
    {
      "cell_type": "code",
      "source": [
        "resultado = (5 > 3) or (10 > 20)\n",
        "print(resultado)"
      ],
      "metadata": {
        "colab": {
          "base_uri": "https://localhost:8080/"
        },
        "id": "w9e0EBu-sVe-",
        "outputId": "6d19ac3a-ed3e-4b44-cace-a221b0415401"
      },
      "execution_count": 71,
      "outputs": [
        {
          "output_type": "stream",
          "name": "stdout",
          "text": [
            "True\n"
          ]
        }
      ]
    },
    {
      "cell_type": "markdown",
      "source": [
        "### NOT\n",
        "\n",
        "Este operador invierte el valor de una condición.\n",
        "\n",
        "<img src=\"https://upload.wikimedia.org/wikipedia/commons/9/9f/Not-gate-en.svg\">"
      ],
      "metadata": {
        "id": "s2J21WFltviP"
      }
    },
    {
      "cell_type": "code",
      "source": [
        "resultado = not (False)\n",
        "print(resultado)"
      ],
      "metadata": {
        "colab": {
          "base_uri": "https://localhost:8080/"
        },
        "id": "tFG-K7ZXttf1",
        "outputId": "dd479ed8-8775-47d0-a3fe-4d235a2fc1fe"
      },
      "execution_count": 72,
      "outputs": [
        {
          "output_type": "stream",
          "name": "stdout",
          "text": [
            "True\n"
          ]
        }
      ]
    },
    {
      "cell_type": "code",
      "source": [
        "resultado = not (5 > 3)\n",
        "print(resultado)"
      ],
      "metadata": {
        "colab": {
          "base_uri": "https://localhost:8080/"
        },
        "id": "HSncQhA3t2l2",
        "outputId": "3f9b5c2d-598e-4f11-8ea2-eaf2ab041877"
      },
      "execution_count": 73,
      "outputs": [
        {
          "output_type": "stream",
          "name": "stdout",
          "text": [
            "False\n"
          ]
        }
      ]
    },
    {
      "cell_type": "markdown",
      "source": [
        "### Ejemplo: Verificar la Edad y la Altura\n",
        "\n",
        "Imaginemos que estamos desarrollando un programa para verificar si una persona es mayor de edad **y** si su altura es mayor que la media (la altura media es 1.70)."
      ],
      "metadata": {
        "id": "DKezo3dBuw-H"
      }
    },
    {
      "cell_type": "code",
      "source": [
        "# Datos de entrada\n",
        "edad = 25\n",
        "altura = 1.80"
      ],
      "metadata": {
        "id": "RyJ17JluuqZj"
      },
      "execution_count": 74,
      "outputs": []
    },
    {
      "cell_type": "code",
      "source": [
        "# Operaciones lógicas\n",
        "es_mayor_de_edad = (edad >= 18)\n",
        "es_alto = (altura > 1.70)\n",
        "\n",
        "print(es_mayor_de_edad)\n",
        "print(es_alto)"
      ],
      "metadata": {
        "colab": {
          "base_uri": "https://localhost:8080/"
        },
        "id": "VwrrTvxFu-0Q",
        "outputId": "e96603fb-ec18-43dc-84a3-338a86d7e732"
      },
      "execution_count": 75,
      "outputs": [
        {
          "output_type": "stream",
          "name": "stdout",
          "text": [
            "True\n",
            "True\n"
          ]
        }
      ]
    },
    {
      "cell_type": "code",
      "source": [
        "# Ahora validemos la condición que se pide\n",
        "resultado = es_mayor_de_edad and es_alto\n",
        "print(f\"Es mayor de edad y alto: {resultado}\")"
      ],
      "metadata": {
        "colab": {
          "base_uri": "https://localhost:8080/"
        },
        "id": "JNNeF_8dwGco",
        "outputId": "996aaa26-f04b-4a9c-87b4-f5e8c8d59d4f"
      },
      "execution_count": 76,
      "outputs": [
        {
          "output_type": "stream",
          "name": "stdout",
          "text": [
            "Es mayor de edad y alto: True\n"
          ]
        }
      ]
    },
    {
      "cell_type": "markdown",
      "source": [
        "### Ejercicio: Verificar Edad o Altura\n",
        "\n",
        "1. Ahora verifiquemos si una ersona es mayor de edad o si su altura es mayor al umbral establecido.\n",
        "\n",
        "2. ¿Cómo quedaría la validación si en lugar de validar si es mayor de edad, quiero valida que **NO** sea mayor de edad (menor de edad)?"
      ],
      "metadata": {
        "id": "uWVDHy-LwQGU"
      }
    },
    {
      "cell_type": "code",
      "source": [
        "# Tu código va acá\n",
        "edad = 10\n",
        "altura = 1.60\n",
        "\n",
        "resultado = (edad >= 18) or (altura > 1.70)\n",
        "print(resultado)"
      ],
      "metadata": {
        "id": "By4kkem2wNIW",
        "colab": {
          "base_uri": "https://localhost:8080/"
        },
        "outputId": "2a82d0e0-ec96-4e48-fe93-8e1db4549703"
      },
      "execution_count": 81,
      "outputs": [
        {
          "output_type": "stream",
          "name": "stdout",
          "text": [
            "False\n"
          ]
        }
      ]
    },
    {
      "cell_type": "code",
      "source": [
        "# Tu código va acá\n",
        "resultado = not (edad >= 18)\n",
        "print(resultado)"
      ],
      "metadata": {
        "id": "OnNqTMxfwoKl",
        "colab": {
          "base_uri": "https://localhost:8080/"
        },
        "outputId": "a404e651-b9c4-4b26-fddb-f26aeceffe6f"
      },
      "execution_count": 82,
      "outputs": [
        {
          "output_type": "stream",
          "name": "stdout",
          "text": [
            "True\n"
          ]
        }
      ]
    },
    {
      "cell_type": "markdown",
      "source": [
        "## Operadores de asignación\n",
        "\n",
        "Los operadores de asignación en Python se utilizan para asignar valores a las variables. Estos operadores combinan una operación matemática con la asignación, lo que permite escribir el código de manera más concisa y eficiente.\n",
        "\n",
        "\n",
        "<table>\n",
        "<thead>\n",
        "<tr>\n",
        "<th style=\"text-align:center\">Operador</th>\n",
        "<th style=\"text-align:center\">Descripción</th>\n",
        "</tr>\n",
        "</thead>\n",
        "<tbody>\n",
        "<tr>\n",
        "<td style=\"text-align:center\">=</td>\n",
        "<td style=\"text-align:center\">a = 5. El valor 5 es asignado a la variable a</td>\n",
        "</tr>\n",
        "<tr>\n",
        "<td style=\"text-align:center\">+=</td>\n",
        "<td style=\"text-align:center\">a += 5 es equivalente a a = a + 5</td>\n",
        "</tr>\n",
        "<tr>\n",
        "<td style=\"text-align:center\">-=</td>\n",
        "<td style=\"text-align:center\">a -= 5 es equivalente a a = a - 5</td>\n",
        "</tr>\n",
        "<tr>\n",
        "<td style=\"text-align:center\">*=</td>\n",
        "<td style=\"text-align:center\">a *= 3 es equivalente a a = a * 3</td>\n",
        "</tr>\n",
        "<tr>\n",
        "<td style=\"text-align:center\">/=</td>\n",
        "<td style=\"text-align:center\">a /= 3 es equivalente a a = a / 3</td>\n",
        "</tr>\n",
        "<tr>\n",
        "<td style=\"text-align:center\">%=</td>\n",
        "<td style=\"text-align:center\">a %= 3 es equivalente a a = a % 3</td>\n",
        "</tr>\n",
        "<tr>\n",
        "<td style=\"text-align:center\">**=</td>\n",
        "<td style=\"text-align:center\">a **= 3 es equivalente a a = a ** 3</td>\n",
        "</tr>\n",
        "<tr>\n",
        "<td style=\"text-align:center\">//=</td>\n",
        "<td style=\"text-align:center\">a //= 3 es equivalente a a = a // 3</td>\n",
        "</tr>\n",
        "</tbody>\n",
        "</table>"
      ],
      "metadata": {
        "id": "EzJzFjRrB371"
      }
    },
    {
      "cell_type": "code",
      "source": [
        "var3 = 2\n",
        "var3 += 3\n",
        "print(var3)"
      ],
      "metadata": {
        "colab": {
          "base_uri": "https://localhost:8080/"
        },
        "id": "u1X42RvQB9Lb",
        "outputId": "5e8c9048-9be8-46fa-fb03-225a98399398"
      },
      "execution_count": 83,
      "outputs": [
        {
          "output_type": "stream",
          "name": "stdout",
          "text": [
            "5\n"
          ]
        }
      ]
    },
    {
      "cell_type": "code",
      "source": [
        "var3 = 2\n",
        "var3 -= 10\n",
        "print(var3)"
      ],
      "metadata": {
        "colab": {
          "base_uri": "https://localhost:8080/"
        },
        "id": "pzaY8letCUne",
        "outputId": "8c696276-8202-42c8-a26c-e0b69ffa35ea"
      },
      "execution_count": 84,
      "outputs": [
        {
          "output_type": "stream",
          "name": "stdout",
          "text": [
            "-8\n"
          ]
        }
      ]
    },
    {
      "cell_type": "code",
      "source": [
        "var3 = 2\n",
        "var3 *= 2\n",
        "print(var3)"
      ],
      "metadata": {
        "colab": {
          "base_uri": "https://localhost:8080/"
        },
        "id": "WJ8X_1ClCXux",
        "outputId": "7148b552-e23a-432b-9967-48114782b67e"
      },
      "execution_count": 85,
      "outputs": [
        {
          "output_type": "stream",
          "name": "stdout",
          "text": [
            "4\n"
          ]
        }
      ]
    },
    {
      "cell_type": "code",
      "source": [
        "var3 = 2\n",
        "var3 **= 4\n",
        "print(var3)"
      ],
      "metadata": {
        "colab": {
          "base_uri": "https://localhost:8080/"
        },
        "id": "icwy9ucHCZWn",
        "outputId": "13835082-1dec-4f9e-8e79-e08374cd99c6"
      },
      "execution_count": 86,
      "outputs": [
        {
          "output_type": "stream",
          "name": "stdout",
          "text": [
            "16\n"
          ]
        }
      ]
    },
    {
      "cell_type": "code",
      "source": [
        "var3 = 2\n",
        "var3 //= 2\n",
        "print(var3)"
      ],
      "metadata": {
        "colab": {
          "base_uri": "https://localhost:8080/"
        },
        "id": "3O-GjMUbCa34",
        "outputId": "9e90b15d-e0ba-4014-fa58-962f496e6d14"
      },
      "execution_count": 88,
      "outputs": [
        {
          "output_type": "stream",
          "name": "stdout",
          "text": [
            "1\n"
          ]
        }
      ]
    },
    {
      "cell_type": "code",
      "source": [
        "var3 = 2\n",
        "var3 //= 1.5\n",
        "print(var3)"
      ],
      "metadata": {
        "colab": {
          "base_uri": "https://localhost:8080/"
        },
        "id": "dAX0SVpUCcdw",
        "outputId": "6da59553-3835-4de2-d6f3-d72594346bd9"
      },
      "execution_count": 90,
      "outputs": [
        {
          "output_type": "stream",
          "name": "stdout",
          "text": [
            "1.0\n"
          ]
        }
      ]
    },
    {
      "cell_type": "code",
      "source": [
        "var3 = 2\n",
        "var3 %= 1\n",
        "print(var3)"
      ],
      "metadata": {
        "colab": {
          "base_uri": "https://localhost:8080/"
        },
        "id": "Jp6MW0exCd6W",
        "outputId": "09ebbdc7-3ea4-4f61-c8f0-46ecc9a244bd"
      },
      "execution_count": 91,
      "outputs": [
        {
          "output_type": "stream",
          "name": "stdout",
          "text": [
            "0\n"
          ]
        }
      ]
    },
    {
      "cell_type": "markdown",
      "source": [
        "### Ejercicio:\n",
        "\n",
        "Crea un programa que realice las siguientes operaciones utilizando operadores de asignación:\n",
        "\n",
        "1.\tAsigna el valor inicial de 50 a una variable x.\n",
        "2.\tSuma 10 a x utilizando +=.\n",
        "3.\tResta 5 a x utilizando -=.\n",
        "4.\tMultiplica x por 2 utilizando *=.\n",
        "5.\tDivide x entre 4 utilizando /=.\n",
        "6.\tCalcula el módulo de x con 3 utilizando %=.\n",
        "7.\tEleva x al cuadrado utilizando **=.\n",
        "8.\tRealiza una división entera de x por 5 utilizando //=."
      ],
      "metadata": {
        "id": "Zssd0fTZC-ue"
      }
    },
    {
      "cell_type": "code",
      "source": [
        "# Tu código va acá\n",
        "x = 50\n",
        "x += 10\n",
        "x -= 5\n",
        "x *= 2\n",
        "x /= 4\n",
        "x %= 3\n",
        "x **= 2\n",
        "x //= 5\n",
        "\n",
        "print(x)"
      ],
      "metadata": {
        "id": "cN_9Id-ZDCqh",
        "colab": {
          "base_uri": "https://localhost:8080/"
        },
        "outputId": "e069ff47-7bd1-4ed5-990b-b3b730b71124"
      },
      "execution_count": 93,
      "outputs": [
        {
          "output_type": "stream",
          "name": "stdout",
          "text": [
            "0.0\n"
          ]
        }
      ]
    },
    {
      "cell_type": "markdown",
      "source": [
        "## Jerarquía de operadores\n",
        "\n",
        "La jerarquía de operaciones, también conocida como precedencia de operadores, determina el orden en que se evalúan las operaciones en una expresión. Conocer la jerarquía es crucial para escribir expresiones matemáticas y lógicas correctamente en Python.\n",
        "\n",
        "\n",
        "| Jerarquia |\n",
        "|-------------------|\n",
        "| Paréntesis `( )` |\n",
        "| Exponente `**`|\n",
        "| División (`/`) y Módulo (`%`) |\n",
        "| Multiplicación (`*`) |\n",
        "| Suma (`+`) y Resta (`-`) |\n",
        "| Operadores Relacionales (`>`, `<`, `>=`, `<=`, `==`, `!=`) |\n",
        "| Negación (`not`) |\n",
        "| Conjunción (`and`) |\n",
        "| Disyunción inclusiva (`or`) |\n",
        "| Operadores de Asignación |\n",
        "\n",
        "\n",
        "*Para más información sobre prioridad de operadores en Python visite este [enlace](https://interactivechaos.com/es/manual/tutorial-de-python/precedencia-de-operadores)*"
      ],
      "metadata": {
        "id": "Mep-c99BER30"
      }
    },
    {
      "cell_type": "code",
      "execution_count": 94,
      "metadata": {
        "id": "ElwZTAet81kD",
        "outputId": "cebc1669-5797-46cd-dcfe-83eaba27fe07",
        "colab": {
          "base_uri": "https://localhost:8080/"
        }
      },
      "outputs": [
        {
          "output_type": "stream",
          "name": "stdout",
          "text": [
            "15628\n"
          ]
        }
      ],
      "source": [
        "print( 5 ** (2 * 3) + 3 )"
      ]
    },
    {
      "cell_type": "code",
      "execution_count": 96,
      "metadata": {
        "id": "tm5ALF2281kD",
        "outputId": "277f495a-8617-42bb-bf98-f9a22c56387d",
        "colab": {
          "base_uri": "https://localhost:8080/"
        }
      },
      "outputs": [
        {
          "output_type": "stream",
          "name": "stdout",
          "text": [
            "6\n"
          ]
        }
      ],
      "source": [
        "print( 5 % 2 * 3 + 3 )"
      ]
    },
    {
      "cell_type": "code",
      "execution_count": 97,
      "metadata": {
        "id": "t6cOGpPO81kD",
        "outputId": "030f45e8-8a6e-4e44-fe29-6cfee6d737d6",
        "colab": {
          "base_uri": "https://localhost:8080/"
        }
      },
      "outputs": [
        {
          "output_type": "stream",
          "name": "stdout",
          "text": [
            "8\n"
          ]
        }
      ],
      "source": [
        "print( 5 % (2 * 3) + 3 )"
      ]
    },
    {
      "cell_type": "code",
      "execution_count": 99,
      "metadata": {
        "id": "zFKFylYe81kE",
        "outputId": "5805d494-c5db-4e9d-e556-79f081b5c9a8",
        "colab": {
          "base_uri": "https://localhost:8080/"
        }
      },
      "outputs": [
        {
          "output_type": "stream",
          "name": "stdout",
          "text": [
            "False\n"
          ]
        }
      ],
      "source": [
        "a = -5\n",
        "b = 3\n",
        "c = 2\n",
        "\n",
        "print( a / b * a / c > b - a * c )"
      ]
    },
    {
      "cell_type": "code",
      "execution_count": 100,
      "metadata": {
        "id": "fvJW0Kuk81kE",
        "outputId": "8910109b-d948-42ed-806a-a60c4800ff82",
        "colab": {
          "base_uri": "https://localhost:8080/"
        }
      },
      "outputs": [
        {
          "output_type": "stream",
          "name": "stdout",
          "text": [
            "True\n"
          ]
        }
      ],
      "source": [
        "a = 10\n",
        "b = 7\n",
        "c = -1\n",
        "\n",
        "print( a %  b + c * a > 3 or c * c < 5 )"
      ]
    },
    {
      "cell_type": "code",
      "source": [
        "# El operador and tiene mayor precedencia que or, por lo que se hace primero\n",
        "resultado = False or True and True\n",
        "print(resultado)"
      ],
      "metadata": {
        "colab": {
          "base_uri": "https://localhost:8080/"
        },
        "id": "XuUnlc_rFmCg",
        "outputId": "4babdd83-1156-44af-9935-aa9279920bb6"
      },
      "execution_count": 104,
      "outputs": [
        {
          "output_type": "stream",
          "name": "stdout",
          "text": [
            "True\n"
          ]
        }
      ]
    },
    {
      "cell_type": "code",
      "source": [
        "# Los operadores de asignación tienen la menor precedencia y se evalúan al final\n",
        "a = 5\n",
        "a += 3 * 2\n",
        "print(a)"
      ],
      "metadata": {
        "colab": {
          "base_uri": "https://localhost:8080/"
        },
        "id": "nlpVN_7KF0nN",
        "outputId": "cf433eba-6285-436e-fa40-31cad953ec5a"
      },
      "execution_count": 105,
      "outputs": [
        {
          "output_type": "stream",
          "name": "stdout",
          "text": [
            "11\n"
          ]
        }
      ]
    },
    {
      "cell_type": "markdown",
      "source": [
        "## Entrada dinámica de datos en python\n",
        "\n",
        "Hasta aquí hemos visto como imprimir información desde el programa hacia los usuarios.\n",
        "\n",
        "Sin embargo, una persona que quiera probar o hacer un programa debe entender sobre variables para, por ejemplo, hacer una calculadora, o un validador de edad. Pero en la vida real, lo que buscamos es que el usuario ingrese la información de manera dinámica, sin tener que saber programar.\n",
        "\n",
        "Para esto, Python cuenta con la función `input()` para pedirle a un usuario externo que ingrese algunos datos y nosotros realizar las validaciones o procesos.\n",
        "\n",
        "\n",
        "<img src=\"https://scaler.com/topics/images/input-and-output-in-python-1024x928.webp\" width=400>\n"
      ],
      "metadata": {
        "id": "LH_OAUJJxlkF"
      }
    },
    {
      "cell_type": "markdown",
      "source": [
        "La función `input()` en Python se utiliza para recibir datos del usuario. Es una manera efectiva de hacer que tus programas sean interactivos, permitiendo a los usuarios ingresar información que luego puede ser utilizada por el programa."
      ],
      "metadata": {
        "id": "BjmZHBkVzecd"
      }
    },
    {
      "cell_type": "code",
      "source": [
        "# Sintaxis\n",
        "\n",
        "variable = input(\"Mensaje al usuario: \")\n",
        "print(\"El usuario dijo: \",variable)"
      ],
      "metadata": {
        "colab": {
          "base_uri": "https://localhost:8080/"
        },
        "id": "PFBoruGNym3S",
        "outputId": "cbb17b49-b202-4004-addf-42aec653f758"
      },
      "execution_count": 107,
      "outputs": [
        {
          "output_type": "stream",
          "name": "stdout",
          "text": [
            "Mensaje al usuario: Hola Natalia\n",
            "El usuario dijo:  Hola Natalia\n"
          ]
        }
      ]
    },
    {
      "cell_type": "code",
      "source": [
        "# Revisemos de qué tipo de datos es \"variable\"\n",
        "print(type(variable))"
      ],
      "metadata": {
        "colab": {
          "base_uri": "https://localhost:8080/"
        },
        "id": "Yl6Pg7saz4_t",
        "outputId": "6136da47-bc0f-4d41-8f78-371800618d65"
      },
      "execution_count": 108,
      "outputs": [
        {
          "output_type": "stream",
          "name": "stdout",
          "text": [
            "<class 'str'>\n"
          ]
        }
      ]
    },
    {
      "cell_type": "code",
      "source": [
        "variable = input(\"Ingresa ahora un número: \")\n",
        "print(\"El usuario escribió: \",variable)\n",
        "print(type(variable))"
      ],
      "metadata": {
        "colab": {
          "base_uri": "https://localhost:8080/"
        },
        "id": "tmOC_k3I1c_p",
        "outputId": "2a28544f-eede-433d-b4c8-8a3e081ecdd3"
      },
      "execution_count": 109,
      "outputs": [
        {
          "output_type": "stream",
          "name": "stdout",
          "text": [
            "Ingresa ahora un número: 9\n",
            "El usuario escribió:  9\n",
            "<class 'str'>\n"
          ]
        }
      ]
    },
    {
      "cell_type": "code",
      "source": [
        "# ¿Entonces cómo podemos leer número? si siempre es un string\n",
        "\n",
        "# recuerda que puedes hacer un casteo\n",
        "variable = input(\"Ingresa ahora un número: \")\n",
        "VariableCasteada = int(variable)\n",
        "print(\"El usuario escribió: \",VariableCasteada)\n",
        "print(type(VariableCasteada))"
      ],
      "metadata": {
        "colab": {
          "base_uri": "https://localhost:8080/"
        },
        "id": "WVJD9bZFz_TI",
        "outputId": "15c43d4b-9d70-4913-b06c-7e3391c84958"
      },
      "execution_count": 110,
      "outputs": [
        {
          "output_type": "stream",
          "name": "stdout",
          "text": [
            "Ingresa ahora un número: 6\n",
            "El usuario escribió:  6\n",
            "<class 'int'>\n"
          ]
        }
      ]
    },
    {
      "cell_type": "markdown",
      "source": [
        "### Ejercicio 0: Pedir edad\n",
        "\n",
        "Vamos a solicitar la edad de una persona por consola y vamos guardarla en una variable"
      ],
      "metadata": {
        "id": "djZdRTwE2ARG"
      }
    },
    {
      "cell_type": "code",
      "source": [
        "# Tu código va acá\n",
        "edad = input(\"Ingresa tu edad:\")\n",
        "print(\"Tu edad es: \", edad)"
      ],
      "metadata": {
        "id": "FVq2_2Mg2N2O",
        "colab": {
          "base_uri": "https://localhost:8080/"
        },
        "outputId": "67428937-56a9-45a2-ee95-143f316e0085"
      },
      "execution_count": 111,
      "outputs": [
        {
          "output_type": "stream",
          "name": "stdout",
          "text": [
            "Ingresa tu edad:21\n",
            "Tu edad es:  21\n"
          ]
        }
      ]
    },
    {
      "cell_type": "markdown",
      "source": [
        "### Ejercicio 1: Recibir y mostrar datos\n",
        "\n",
        "1.\tSolicita al usuario que ingrese su nombre, edad y ciudad de residencia.\n",
        "2.\tImprime un mensaje que combine todos estos datos en una sola oración."
      ],
      "metadata": {
        "id": "C0uFKTHS2V9R"
      }
    },
    {
      "cell_type": "code",
      "source": [
        "# Tu código va acá\n",
        "nombre = input(\"Ingresa tu nombre: \")\n",
        "edad = input (\"Ingresa tu edad: \")\n",
        "ciudad = input(\"Ingresa tu ciudad de residencia: \")\n",
        "\n",
        "print(f\"Nombre: {nombre}, edad: {edad}, ciudad: {ciudad}\")"
      ],
      "metadata": {
        "id": "LY178GP_2VF7",
        "colab": {
          "base_uri": "https://localhost:8080/"
        },
        "outputId": "b8f20a82-2bef-41e1-e8cc-a5ca5e35b2f3"
      },
      "execution_count": 112,
      "outputs": [
        {
          "output_type": "stream",
          "name": "stdout",
          "text": [
            "Ingresa tu nombre: Natalia\n",
            "Ingresa tu edad: 21\n",
            "Ingresa tu ciudad de residencia: Manizales\n",
            "Nombre: Natalia, edad: 21, ciudad: Manizales\n"
          ]
        }
      ]
    },
    {
      "cell_type": "markdown",
      "source": [
        "### Ejercicio 2: Realizar operaciones matemáticas con datos ingresados por el usuario\n",
        "\n",
        "1.\tSolicita al usuario que ingrese dos números.\n",
        "2.\tConvierte las entradas a enteros.\n",
        "3.\tCalcula e imprime la suma, resta, multiplicación y división de estos dos números."
      ],
      "metadata": {
        "id": "ZB-Aenze2z81"
      }
    },
    {
      "cell_type": "code",
      "source": [
        "# Tu código va acá\n",
        "num1 = input(\"Ingresa un número: \")\n",
        "num2 = input(\"Ingresa otro número: \")\n",
        "\n",
        "num1Casteado = int(num1)\n",
        "num2Casteado = int(num2)\n",
        "\n",
        "print(f\"Suma: {num1Casteado + num2Casteado}, resta: {num1Casteado-num2Casteado}, multiplicación: {num1Casteado*num2Casteado}, división: {num1Casteado/num2Casteado}\")"
      ],
      "metadata": {
        "id": "_ta5Wh6R25z6",
        "colab": {
          "base_uri": "https://localhost:8080/"
        },
        "outputId": "0613a046-db0d-4c0b-ab58-dd4628ad1245"
      },
      "execution_count": 113,
      "outputs": [
        {
          "output_type": "stream",
          "name": "stdout",
          "text": [
            "Ingresa un número: 10\n",
            "Ingresa otro número: 2\n",
            "Suma: 12, resta: 8, multiplicación: 20, división: 5.0\n"
          ]
        }
      ]
    },
    {
      "cell_type": "markdown",
      "source": [
        "## Formato para definir variables\n",
        "\n",
        "Definir nombres de variables de manera consistente y clara es una práctica esencial en la programación. Utilizar convenciones de nombres estándar no solo hace que tu código sea más legible y mantenible, sino que también facilita la colaboración con otros desarrolladores. En esta clase, exploraremos las diferentes convenciones de nombres y las mejores prácticas para definir variables en Python."
      ],
      "metadata": {
        "id": "UDNX2ePFIHb_"
      }
    },
    {
      "cell_type": "markdown",
      "source": [
        "### Convenciones de nombres\n",
        "\n",
        "\n",
        "1. **Snake Case (snake_case)**\n",
        "\n",
        "  En snake_case, todas las letras son minúsculas y las palabras están separadas por guiones bajos (_).\n",
        "  \n",
        "  ```\n",
        "  numero_de_estudiantes = 30\n",
        "  nombre_del_profesor = \"Carlos\"\n",
        "  ```\n",
        "2. **Camel Case (camelCase)**\n",
        "\n",
        "  En camelCase, la primera letra de la primera palabra es minúscula y la primera letra de cada palabra subsiguiente es mayúscula.\n",
        "\n",
        "  ```\n",
        "  numeroDeEstudiantes = 30\n",
        "  nombreDelProfesor = \"Carlos\"\n",
        "\n",
        "  ```\n",
        "\n",
        "3. **Pascal Case (PascalCase)**\n",
        "  \n",
        "  En PascalCase, la primera letra de cada palabra es mayúscula.\n",
        "\n",
        "  ```\n",
        "  NumeroDeEstudiantes = 30\n",
        "  NombreDelProfesor = \"Carlos\"\n",
        "\n",
        "  ```\n",
        "4. **Mayúsculas para Constantes**\n",
        "\n",
        "  Las constantes, o variables que no deberían cambiar su valor, se escriben generalmente en mayúsculas con guiones bajos (_) entre las palabras.\n",
        "\n",
        "  ```\n",
        "  PI = 3.14159\n",
        "  VELOCIDAD_DE_LUZ = 299792458\n",
        "  ```\n",
        "\n",
        "\n",
        "> **Seguir una convención de nombres hace que tu código sea más fácil de leer y entender, tanto para ti como para otros desarrolladores.**"
      ],
      "metadata": {
        "id": "LMOz-vYTJsfZ"
      }
    },
    {
      "cell_type": "markdown",
      "source": [
        "## Ejercicio\n",
        "\n",
        "**Contexto**\n",
        "\n",
        "Imagina que estás desarrollando un programa para una oficina gubernamental que necesita recopilar y analizar información básica de sus empleados. La información que necesitas incluir es la edad, la altura, si son estudiantes, y su salario. El programa debe verificar si los empleados cumplen ciertos criterios y proporcionar un resumen de la información.\n",
        "\n",
        "**Objetivos del Ejercicio**\n",
        "\n",
        "1.\tSolicitar al usuario que ingrese su edad, altura, si es estudiante y su salario.\n",
        "2.\tConvertir las entradas a los tipos de datos adecuados.\n",
        "3.\tVerificar:\n",
        "  *\tSi el empleado es mayor de edad.\n",
        "  *\tSi su altura es mayor que la media (1.70 metros).\n",
        "  *\tSi su salario es mayor o igual a un salario promedio (ej. $3000).\n",
        "  *\tSi no es estudiante.\n",
        "4.\tImprimir un resumen con toda la información y los resultados de las verificaciones."
      ],
      "metadata": {
        "id": "FV1IABd2zDtv"
      }
    },
    {
      "cell_type": "code",
      "source": [
        "edad = input(\"Ingrese su edad: \")\n",
        "altura = input(\"ingrese su altura: \")\n",
        "esEstudiante = input(\"¿Es estudiante?\")\n",
        "salario = input(\"Ingrese su salario: \")\n",
        "\n",
        "edadCasteada = int(edad)\n",
        "alturaCasteada = float(altura)\n",
        "salarioCasteado = float(salario)\n",
        "\n",
        "if edadCasteada > 18:\n",
        "  print(\"Es mayor de edad\")\n",
        "else:\n",
        "  print(\"No es mayor de edad\")\n",
        "\n",
        "if alturaCasteada > 1.70:\n",
        "  print(\"Es más alto que la media\")\n",
        "else:\n",
        "  print(\"No es más alto que la media\")\n",
        "\n",
        "if salarioCasteado >= 3000:\n",
        "  print(\"Su salario es mayor o igual a un salario promedio (3000)\")\n",
        "else:\n",
        "  print(\"Su salario no es mayor que un salario promedio\")\n",
        "\n",
        "if esEstudiante == \"no\":\n",
        "  print(\"No es estudiante\")\n",
        "else:\n",
        "  print(\"Es estudiante\")\n"
      ],
      "metadata": {
        "id": "jpo9F45eIABz",
        "outputId": "3a9d76e8-9c82-4602-f584-3b62cb00637e",
        "colab": {
          "base_uri": "https://localhost:8080/"
        }
      },
      "execution_count": 119,
      "outputs": [
        {
          "output_type": "stream",
          "name": "stdout",
          "text": [
            "Ingrese su edad: 21\n",
            "ingrese su altura: 1.67\n",
            "¿Es estudiante?si\n",
            "Ingrese su salario: 3000\n",
            "Es mayor de edad\n",
            "No es más alto que la media\n",
            "Su salario es mayor o igual a un salario promedio (3000)\n",
            "Es estudiante\n"
          ]
        }
      ]
    },
    {
      "cell_type": "markdown",
      "source": [
        "## Reto 1: Factura Empresa de hamburguesas\n",
        "\n",
        "**Contexto**\n",
        "\n",
        "Ud trabaja en un restaurante de hamburguesas en el que necesitan automatizar el proceso de impresión de la factura de cada uno de los clientes. Debes calcular los precios de impuestos y el costo total de cada orden.\n",
        "\n",
        "**Objetivo del ejercicio**\n",
        "\n",
        "Realice una impresión de una factura que muestre:\n",
        "\n",
        "* El precio individual de una hamburguesa (5 dolares)\n",
        "* El precio invididual de una gaseosa (2 dolares)\n",
        "* El precio del menú con hamburguesa, gaseosa y papas cuyo costo es de 10 dolares\n",
        "* El precio total sin IVA\n",
        "* El precio total con IVA del 8%"
      ],
      "metadata": {
        "id": "LTNY_AKq3-dY"
      }
    },
    {
      "cell_type": "code",
      "source": [
        "# Tu código va acá\n",
        "hamburguesas = int(input(\"Ingrese la cantidad de hamburguesas: \"))\n",
        "gaseosas = int(input(\"Ingrese la cantidad de gaseosas: \"))\n",
        "menus = int(input(\"Ingrese la cantidad de menús(hamburguesa, gaseosa, papas): \"))\n",
        "\n",
        "precio_hamburguesa = 5\n",
        "precio_gaseosa = 2\n",
        "precio_menu = 10\n",
        "iva = 0.08\n",
        "\n",
        "precio_individual_hamburguesa = precio_hamburguesa * hamburguesas\n",
        "precio_individual_gaseosa = precio_gaseosa * gaseosas\n",
        "precio_individual_menu = precio_menu * menus\n",
        "\n",
        "precio_total_sin_iva = precio_individual_hamburguesa + precio_individual_gaseosa + precio_individual_menu\n",
        "precio_total_con_iva = precio_total_sin_iva * (1 + iva)\n",
        "\n",
        "print(f\"Precio individual de una hamburguesa: {precio_individual_hamburguesa}\")\n",
        "print(f\"Precio individual de una gaseosa: {precio_individual_gaseosa}\")\n",
        "print(f\"Precio del menú con hamburguesa, gaseosa y papas: {precio_individual_menu}\")\n",
        "print(f\"Precio total sin IVA: {precio_total_sin_iva}\")\n",
        "print(f\"Precio total con IVA del 8%: {precio_total_con_iva}\")\n"
      ],
      "metadata": {
        "id": "5C9NQusP4Bgv",
        "colab": {
          "base_uri": "https://localhost:8080/"
        },
        "outputId": "218ee797-9ef1-4f32-ee6d-e25d0ad446c1"
      },
      "execution_count": 120,
      "outputs": [
        {
          "output_type": "stream",
          "name": "stdout",
          "text": [
            "Ingrese la cantidad de hamburguesas: 1\n",
            "Ingrese la cantidad de gaseosas: 0\n",
            "Ingrese la cantidad de menús(hamburguesa, gaseosa, papas): 2\n",
            "Precio individual de una hamburguesa: 5\n",
            "Precio individual de una gaseosa: 0\n",
            "Precio del menú con hamburguesa, gaseosa y papas: 20\n",
            "Precio total sin IVA: 25\n",
            "Precio total con IVA del 8%: 27.0\n"
          ]
        }
      ]
    },
    {
      "cell_type": "markdown",
      "source": [
        "## Reto: Análisis de Información Financiera\n",
        "\n",
        "**Contexto**\n",
        "\n",
        "Imagina que trabajas en el departamento financiero de una empresa y necesitas desarrollar un programa para analizar la información financiera básica de los empleados. Este programa debe recopilar datos como el salario mensual, los gastos mensuales, y calcular el ahorro mensual. Además, debe verificar si los empleados están ahorrando más del 20% de su salario y proporcionar un resumen financiero.\n",
        "\n",
        "**Objetivos del Ejercicio**\n",
        "\n",
        "  **1.**\tSolicitar al usuario que ingrese su salario mensual y sus gastos mensuales.\n",
        "\n",
        "  **2.**\tConvertir las entradas a los tipos de datos adecuados.\n",
        "\n",
        "  **3.**\tCalcular el ahorro mensual y el porcentaje de ahorro sobre el salario.\n",
        "\n",
        "  **4.**\tVerificar si el porcentaje de ahorro es mayor al 20%.\n",
        "\n",
        "  **5.**\tImprimir un resumen financiero con toda la información y los resultados de las verificaciones.\n"
      ],
      "metadata": {
        "id": "oMB3TfOhDS2h"
      }
    },
    {
      "cell_type": "code",
      "source": [
        "# Tu código va acá\n",
        "salarioMensual = input(\"Ingrese su salario mensual: \")\n",
        "gastosMensuales = input(\"Ingrese sus gastos mensuales: \")\n",
        "\n",
        "salarioMensualCasteado = float(salarioMensual)\n",
        "gastosMensualesCasteado = float(gastosMensuales)\n",
        "\n",
        "ahorroMensual = salarioMensualCasteado - gastosMensualesCasteado\n",
        "porcentajeAhorro = round((ahorroMensual / salarioMensualCasteado) * 100,1)\n",
        "salarioPorcentaje20 = (salarioMensualCasteado * 0.2)/100\n",
        "print(salarioPorcentaje20)\n",
        "\n",
        "verificarPorcentaje = porcentajeAhorro > salarioPorcentaje20\n",
        "\n",
        "print(f\"Ahorro mensual: {ahorroMensual}\")\n",
        "print(f\"Porcentaje de ahorro sobre el salario: {porcentajeAhorro}%\")\n",
        "print(f\"¿Está ahorrando más del 20% de su salario? {verificarPorcentaje}\")\n",
        "\n"
      ],
      "metadata": {
        "id": "jcVIGnB_DS2h",
        "colab": {
          "base_uri": "https://localhost:8080/"
        },
        "outputId": "1dbf75cd-9791-426b-81da-388f8fc96758"
      },
      "execution_count": 126,
      "outputs": [
        {
          "output_type": "stream",
          "name": "stdout",
          "text": [
            "Ingrese su salario mensual: 13000\n",
            "Ingrese sus gastos mensuales: 6000\n",
            "26.0\n",
            "Ahorro mensual: 7000.0\n",
            "Porcentaje de ahorro sobre el salario: 53.8%\n",
            "¿Está ahorrando más del 20% de su salario? True\n"
          ]
        }
      ]
    }
  ]
}