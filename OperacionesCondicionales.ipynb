{
  "cells": [
    {
      "cell_type": "markdown",
      "metadata": {
        "id": "g2h0VlsYHHPp"
      },
      "source": [
        "# Operaciones con tipos y estructuras condicionales"
      ]
    },
    {
      "cell_type": "markdown",
      "metadata": {
        "id": "U85SglinHMdW"
      },
      "source": [
        "## Operaciones de números aleatorios\n",
        "\n",
        "El módulo random en Python proporciona funciones para generar números aleatorios y realizar selecciones aleatorias de secuencias como listas, cadenas, etc. Este módulo es muy útil en diversas aplicaciones, desde simulaciones y juegos hasta pruebas estadísticas.\n"
      ]
    },
    {
      "cell_type": "code",
      "execution_count": 3,
      "metadata": {
        "colab": {
          "base_uri": "https://localhost:8080/"
        },
        "id": "sW1CZEltHMRg",
        "outputId": "fdcfbbae-c099-4677-dd8f-b76a478c0fd1"
      },
      "outputs": [
        {
          "output_type": "stream",
          "name": "stdout",
          "text": [
            "Imprime un número aleatorio entero entre 3 y 9: 4\n"
          ]
        }
      ],
      "source": [
        "# Generar un número Entero aleatorio dentro de un rango\n",
        "\n",
        "import random\n",
        "numero_entero_aleatorio = random.randrange(3, 10)\n",
        "print('Imprime un número aleatorio entero entre 3 y 9:', numero_entero_aleatorio)"
      ]
    },
    {
      "cell_type": "code",
      "execution_count": 16,
      "metadata": {
        "colab": {
          "base_uri": "https://localhost:8080/"
        },
        "id": "hReDFQLm4tI2",
        "outputId": "69f92bdd-17cd-40d9-d7dd-cc47e6811bed"
      },
      "outputs": [
        {
          "output_type": "stream",
          "name": "stdout",
          "text": [
            "Selecciona aleatoriamente un elemento de la lista [\"uno\", \"dos\", \"tres\"]: tres\n"
          ]
        }
      ],
      "source": [
        "# Seleccionar un Elemento Aleatorio de una Secuencia\n",
        "\n",
        "import random\n",
        "elemento_aleatorio = random.choice([\"uno\", \"dos\", \"tres\"])\n",
        "print('Selecciona aleatoriamente un elemento de la lista [\"uno\", \"dos\", \"tres\"]:', elemento_aleatorio)"
      ]
    },
    {
      "cell_type": "code",
      "execution_count": 19,
      "metadata": {
        "colab": {
          "base_uri": "https://localhost:8080/"
        },
        "id": "EcluOrKVJZq8",
        "outputId": "c588b4b5-3f09-4347-b1f1-3a1d983c3abf"
      },
      "outputs": [
        {
          "output_type": "stream",
          "name": "stdout",
          "text": [
            "Imprime un número aleatorio decimal entre 0 y 1: 0.15811761426137871\n"
          ]
        }
      ],
      "source": [
        "# Generar un Número Decimal Aleatorio entre 0 y 1\n",
        "import random\n",
        "numero_decimal_aleatorio = random.random()\n",
        "print('Imprime un número aleatorio decimal entre 0 y 1:', numero_decimal_aleatorio)"
      ]
    },
    {
      "cell_type": "code",
      "execution_count": 20,
      "metadata": {
        "colab": {
          "base_uri": "https://localhost:8080/"
        },
        "id": "Y_cbl4nTLrY2",
        "outputId": "fb4e9daf-6efe-43ec-f90d-dbce1556ec19"
      },
      "outputs": [
        {
          "output_type": "stream",
          "name": "stdout",
          "text": [
            "Imprime una letra aleatoria de la cadena \"AEIOU\": O\n"
          ]
        }
      ],
      "source": [
        "# Seleccionar una Letra Aleatoria de una Cadena\n",
        "import random\n",
        "letra_aleatoria = random.choice(\"AEIOU\")\n",
        "print('Imprime una letra aleatoria de la cadena \"AEIOU\":', letra_aleatoria)"
      ]
    },
    {
      "cell_type": "markdown",
      "metadata": {
        "id": "3p_ziJ8oMmd2"
      },
      "source": [
        "### Consideraciones de los números aleatorios.\n",
        "\n",
        "**Reproducibilidad:** Para generar la misma secuencia de números aleatorios en diferentes ejecuciones del programa, puedes establecer una semilla con random.seed(a). Esto es útil para pruebas y depuración.\n",
        "\n"
      ]
    },
    {
      "cell_type": "code",
      "execution_count": 30,
      "metadata": {
        "colab": {
          "base_uri": "https://localhost:8080/"
        },
        "id": "XWhLZTScMw89",
        "outputId": "f37fdc99-23c4-4388-aaa2-61586ab2c8cc"
      },
      "outputs": [
        {
          "output_type": "stream",
          "name": "stdout",
          "text": [
            "0.5390815646058106\n"
          ]
        }
      ],
      "source": [
        "import random\n",
        "random.seed(30)\n",
        "print(random.random())  # Siempre imprimirá el mismo número cuando se usa la misma semilla"
      ]
    },
    {
      "cell_type": "markdown",
      "metadata": {
        "id": "rOMbU6OmL6K5"
      },
      "source": [
        "### Ejemplo\n",
        "\n",
        "Genera un número entero aleatorio entre 1 y 100. Imprime su resultado."
      ]
    },
    {
      "cell_type": "code",
      "execution_count": 31,
      "metadata": {
        "colab": {
          "base_uri": "https://localhost:8080/"
        },
        "id": "a2zfGEn6L57E",
        "outputId": "0741ec62-996a-4dff-b667-82823567fb8d"
      },
      "outputs": [
        {
          "output_type": "stream",
          "name": "stdout",
          "text": [
            "Imprime un número aleatorio entero entre 1 y 100: 38\n"
          ]
        }
      ],
      "source": [
        "import random\n",
        "numero_entero_aleatorio = random.randrange(1, 101)\n",
        "print('Imprime un número aleatorio entero entre 1 y 100:', numero_entero_aleatorio)"
      ]
    },
    {
      "cell_type": "markdown",
      "metadata": {
        "id": "wsFAEwnKMIYt"
      },
      "source": [
        "### Ejemplo\n",
        "\n",
        "Selecciona un nombre aleatorio de la lista e imprímelo."
      ]
    },
    {
      "cell_type": "code",
      "execution_count": 33,
      "metadata": {
        "colab": {
          "base_uri": "https://localhost:8080/"
        },
        "id": "5y2ih8fWLzI4",
        "outputId": "3f94b97b-1db1-40cd-88ae-08d12859e906"
      },
      "outputs": [
        {
          "output_type": "stream",
          "name": "stdout",
          "text": [
            "Selecciona aleatoriamente un nombre de la lista de compañeros: Ana\n"
          ]
        }
      ],
      "source": [
        "import random\n",
        "companeros = [\"Ana\", \"Carlos\", \"Beatriz\", \"David\", \"Elena\"]\n",
        "nombre_aleatorio = random.choice(companeros)\n",
        "print('Selecciona aleatoriamente un nombre de la lista de compañeros:', nombre_aleatorio)"
      ]
    },
    {
      "cell_type": "markdown",
      "metadata": {
        "id": "zaJ6kq7LMUeb"
      },
      "source": [
        "### Ejercicio\n",
        "\n",
        "Crea una cadena con todas las letras del alfabeto y luego selecciona una letra de la cadena. Imprime el resultado"
      ]
    },
    {
      "cell_type": "code",
      "execution_count": 38,
      "metadata": {
        "id": "K-R9-jTgMPhb",
        "outputId": "c7e5cbf3-3381-476d-bdb0-27830f43c5af",
        "colab": {
          "base_uri": "https://localhost:8080/"
        }
      },
      "outputs": [
        {
          "output_type": "stream",
          "name": "stdout",
          "text": [
            "La cadena es:  b\n"
          ]
        }
      ],
      "source": [
        "# Tu Código va acá\n",
        "import random\n",
        "cadena = random.choice(\"abcdefghijklmnopqrstuvwxyz\")\n",
        "print(\"La cadena es: \", cadena)"
      ]
    },
    {
      "cell_type": "markdown",
      "metadata": {
        "id": "E9zeyBlNNTm7"
      },
      "source": [
        "## Operaciones con variables usando la librería Math\n",
        "\n",
        "La librería math en Python es un módulo que proporciona acceso a funciones matemáticas avanzadas y constantes. Incluye operaciones como cálculo de raíces cuadradas, logaritmos, trigonometría, funciones exponenciales y constantes matemáticas como π (pi) y e (la base del logaritmo natural). Esta librería es útil para realizar cálculos matemáticos complejos de manera sencilla y eficiente."
      ]
    },
    {
      "cell_type": "code",
      "execution_count": 40,
      "metadata": {
        "colab": {
          "base_uri": "https://localhost:8080/"
        },
        "id": "9ZNphWuvNkNS",
        "outputId": "d9aa7749-aa8d-4824-c398-c58f4855b8e9"
      },
      "outputs": [
        {
          "output_type": "stream",
          "name": "stdout",
          "text": [
            "Factorial= 6\n"
          ]
        }
      ],
      "source": [
        "import math\n",
        "\n",
        "print(\"Factorial=\",math.factorial(3)) #factorial de un número"
      ]
    },
    {
      "cell_type": "code",
      "execution_count": 43,
      "metadata": {
        "colab": {
          "base_uri": "https://localhost:8080/"
        },
        "id": "J0Y_CgX5Nmgj",
        "outputId": "a1307c02-a4b3-4608-c05e-f621e265b5c5"
      },
      "outputs": [
        {
          "output_type": "stream",
          "name": "stdout",
          "text": [
            "PI= 3.141592653589793\n"
          ]
        }
      ],
      "source": [
        "import math\n",
        "\n",
        "print(\"PI=\",math.pi) #número PI"
      ]
    },
    {
      "cell_type": "code",
      "execution_count": 46,
      "metadata": {
        "colab": {
          "base_uri": "https://localhost:8080/"
        },
        "id": "WL9K-RmeNn-P",
        "outputId": "aa23d24d-74cd-476e-8569-df688d20f243"
      },
      "outputs": [
        {
          "output_type": "stream",
          "name": "stdout",
          "text": [
            "E= 2.718281828459045\n"
          ]
        }
      ],
      "source": [
        "import math\n",
        "\n",
        "print(\"E=\",math.e) #número e"
      ]
    },
    {
      "cell_type": "code",
      "execution_count": 48,
      "metadata": {
        "colab": {
          "base_uri": "https://localhost:8080/"
        },
        "id": "6cI8EZcENtIi",
        "outputId": "932d8d95-b6fd-44d9-b51c-01dfe6a53151"
      },
      "outputs": [
        {
          "output_type": "stream",
          "name": "stdout",
          "text": [
            "seno= 0.49999999999999994\n"
          ]
        }
      ],
      "source": [
        "import math\n",
        "\n",
        "print(\"seno=\",math.sin(math.pi/6)) #seno de pi/6"
      ]
    },
    {
      "cell_type": "code",
      "execution_count": 51,
      "metadata": {
        "colab": {
          "base_uri": "https://localhost:8080/"
        },
        "id": "GdZW7HzTNyBn",
        "outputId": "ec147f0d-b0cd-4469-a4b3-201705f833de"
      },
      "outputs": [
        {
          "output_type": "stream",
          "name": "stdout",
          "text": [
            "Potencia= 9.0\n"
          ]
        }
      ],
      "source": [
        "import math\n",
        "\n",
        "print(\"Potencia=\",math.pow(3,2)) #potencia, se coloca la base primero, después se coloca el exponente"
      ]
    },
    {
      "cell_type": "code",
      "execution_count": 53,
      "metadata": {
        "colab": {
          "base_uri": "https://localhost:8080/"
        },
        "id": "AJVnWUDUNzOp",
        "outputId": "8b9e8fe2-8f97-4f89-a451-8f885f544a30"
      },
      "outputs": [
        {
          "output_type": "stream",
          "name": "stdout",
          "text": [
            "Raiz cuadrada= 2.0\n"
          ]
        }
      ],
      "source": [
        "import math\n",
        "\n",
        "print(\"Raiz cuadrada=\",math.sqrt(4)) #La raíz cuadrada de un número"
      ]
    },
    {
      "cell_type": "markdown",
      "metadata": {
        "id": "IrmVuBHZNNpK"
      },
      "source": [
        "## Operaciones con cadenas de texto (Strings)"
      ]
    },
    {
      "cell_type": "code",
      "execution_count": 54,
      "metadata": {
        "colab": {
          "base_uri": "https://localhost:8080/"
        },
        "id": "HcTxoel2NStf",
        "outputId": "c19c044a-dc88-4715-910b-7ad4c2feac15"
      },
      "outputs": [
        {
          "output_type": "stream",
          "name": "stdout",
          "text": [
            "Un divertidoprogramaderadio\n"
          ]
        }
      ],
      "source": [
        "#Suma o concatenación\n",
        "x=\"Un divertido\"+\"programa\"+\"de\"+\"radio\"\n",
        "print(x)"
      ]
    },
    {
      "cell_type": "code",
      "execution_count": 55,
      "metadata": {
        "colab": {
          "base_uri": "https://localhost:8080/"
        },
        "id": "8j_oXsEYO92L",
        "outputId": "ccc145c7-fee1-46a1-9e9b-d68fa7818283"
      },
      "outputs": [
        {
          "output_type": "stream",
          "name": "stdout",
          "text": [
            "programasprogramasprogramas\n"
          ]
        }
      ],
      "source": [
        "#Multiplicación de una cadena con un número\n",
        "y=3*\"programas\"\n",
        "print(y)"
      ]
    },
    {
      "cell_type": "code",
      "execution_count": 56,
      "metadata": {
        "colab": {
          "base_uri": "https://localhost:8080/"
        },
        "id": "5oQzcJSeO_GX",
        "outputId": "7d4f6f0f-cea9-4dde-e76e-92a80f981142"
      },
      "outputs": [
        {
          "output_type": "stream",
          "name": "stdout",
          "text": [
            "longitud de la cadena: 27\n"
          ]
        }
      ],
      "source": [
        "#Obtener longitud de una cadena\n",
        "print('longitud de la cadena:',len(y))"
      ]
    },
    {
      "cell_type": "code",
      "execution_count": 57,
      "metadata": {
        "colab": {
          "base_uri": "https://localhost:8080/"
        },
        "id": "6zrTk1iFO_wN",
        "outputId": "621c1ee4-96bf-4090-ecb7-3f05ddc1ea6e"
      },
      "outputs": [
        {
          "output_type": "stream",
          "name": "stdout",
          "text": [
            "acceder a una posicion determinada: p\n",
            "acceder a la última posición: A\n"
          ]
        }
      ],
      "source": [
        "#Acceder  a una posición de la cadena\n",
        "cadena = \"programA\"\n",
        "print('acceder a una posicion determinada:',cadena[0])\n",
        "print('acceder a la última posición:',cadena[-1])"
      ]
    },
    {
      "cell_type": "code",
      "execution_count": 60,
      "metadata": {
        "colab": {
          "base_uri": "https://localhost:8080/"
        },
        "id": "cRqp5LFsPCEK",
        "outputId": "1448e783-1a53-4a73-8ce0-7578d225443b"
      },
      "outputs": [
        {
          "output_type": "stream",
          "name": "stdout",
          "text": [
            "ernan\n"
          ]
        }
      ],
      "source": [
        "# Extraer solo una parte de\n",
        "cadena = 'Fernando'\n",
        "porcion = cadena[1:6]\n",
        "print(porcion)"
      ]
    },
    {
      "cell_type": "code",
      "execution_count": 61,
      "metadata": {
        "colab": {
          "base_uri": "https://localhost:8080/"
        },
        "id": "78wRfB3fP_eK",
        "outputId": "4b7dc1e6-3238-4cbb-9eb2-db9c06d33cd3"
      },
      "outputs": [
        {
          "output_type": "stream",
          "name": "stdout",
          "text": [
            "Texto entre \n",
            "\n",
            "\n",
            " \t\t\tcomillas simples\n",
            "<class 'str'>\n"
          ]
        }
      ],
      "source": [
        "# Saltos de linea y tabulaciones\n",
        "cadenaesc = 'Texto entre \\n\\n\\n \\t\\t\\tcomillas simples'\n",
        "print(cadenaesc)\n",
        "print(type(cadenaesc))"
      ]
    },
    {
      "cell_type": "code",
      "execution_count": 62,
      "metadata": {
        "colab": {
          "base_uri": "https://localhost:8080/"
        },
        "id": "MrYh8AXxQIZE",
        "outputId": "1329d8a0-1d3a-4131-eb90-14bf5fa7edae"
      },
      "outputs": [
        {
          "output_type": "stream",
          "name": "stdout",
          "text": [
            "HOLA MUNDO\n"
          ]
        }
      ],
      "source": [
        "# Transformar todo a MAYÚSCULAS\n",
        "\n",
        "cadena = \"Hola Mundo\"\n",
        "print(cadena.upper())"
      ]
    },
    {
      "cell_type": "code",
      "execution_count": 63,
      "metadata": {
        "colab": {
          "base_uri": "https://localhost:8080/"
        },
        "id": "56zk1g9CSG1C",
        "outputId": "316d194c-9b76-49ef-8640-6c6bb0ff97c6"
      },
      "outputs": [
        {
          "output_type": "stream",
          "name": "stdout",
          "text": [
            "hola mundo\n"
          ]
        }
      ],
      "source": [
        "# Transformar todo a minúsculas\n",
        "\n",
        "cadena = \"Hola Mundo\"\n",
        "print(cadena.lower())"
      ]
    },
    {
      "cell_type": "code",
      "execution_count": 64,
      "metadata": {
        "colab": {
          "base_uri": "https://localhost:8080/"
        },
        "id": "6IzEM_s1SQv_",
        "outputId": "1b4176ce-b751-4ff1-f3ac-9de2e7837a77"
      },
      "outputs": [
        {
          "output_type": "stream",
          "name": "stdout",
          "text": [
            "Hola Mundo\n",
            "Hola Mundo   \n",
            "   Hola Mundo\n"
          ]
        }
      ],
      "source": [
        "# Elimar espacios en blanco\n",
        "\n",
        "cadena = \"   Hola Mundo   \"\n",
        "print(cadena.strip())   # Elimina los espacios al principio y al final\n",
        "print(cadena.lstrip())  # Elimina los espacios que están a la izquierda (principio)\n",
        "print(cadena.rstrip())  # Elimina los espacios que están a la derecha (final)"
      ]
    },
    {
      "cell_type": "code",
      "execution_count": 65,
      "metadata": {
        "colab": {
          "base_uri": "https://localhost:8080/"
        },
        "id": "9CAGX_vwSn__",
        "outputId": "d9ba40d8-1430-4c88-e051-88f8a8588c04"
      },
      "outputs": [
        {
          "output_type": "stream",
          "name": "stdout",
          "text": [
            "Hola Python\n"
          ]
        }
      ],
      "source": [
        "# Reemplaza todas las apariciones de una subcadena por otra.\n",
        "cadena = \"Hola Mundo\"\n",
        "nueva_cadena = cadena.replace(\"Mundo\", \"Python\")\n",
        "print(nueva_cadena)"
      ]
    },
    {
      "cell_type": "code",
      "execution_count": 66,
      "metadata": {
        "colab": {
          "base_uri": "https://localhost:8080/"
        },
        "id": "I2oB6omVSvQJ",
        "outputId": "952d9de1-447a-4611-fd69-46173429c536"
      },
      "outputs": [
        {
          "output_type": "stream",
          "name": "stdout",
          "text": [
            "['Juan Perez', 'Álvaro Gonzalez', 'Pablo Jimenez']\n"
          ]
        }
      ],
      "source": [
        "# Divide una cadena en una lista utilizando un delimitador\n",
        "cadena = \"Juan Perez,Álvaro Gonzalez,Pablo Jimenez\"\n",
        "lista = cadena.split(\",\")\n",
        "print(lista)"
      ]
    },
    {
      "cell_type": "code",
      "execution_count": 67,
      "metadata": {
        "colab": {
          "base_uri": "https://localhost:8080/"
        },
        "id": "EVxipVO7TCkk",
        "outputId": "f4f9c023-d18d-45d0-e7f6-97f84c9dd1bb"
      },
      "outputs": [
        {
          "output_type": "stream",
          "name": "stdout",
          "text": [
            "Este-es-mi-mensaje-.-Quiero-aprender-python\n"
          ]
        }
      ],
      "source": [
        "# Une una lista en una cadena con un delimitador.\n",
        "\n",
        "lista = [\"Este\", \"es\", \"mi\", \"mensaje\",\".\",\"Quiero\",\"aprender\", \"python\"]\n",
        "\n",
        "nueva_frase = \"-\".join(lista)\n",
        "print(nueva_frase)"
      ]
    },
    {
      "cell_type": "code",
      "execution_count": 68,
      "metadata": {
        "colab": {
          "base_uri": "https://localhost:8080/"
        },
        "id": "KZYFPwORTlA4",
        "outputId": "d8c6d9c5-a613-405b-9645-0298bf3ac569"
      },
      "outputs": [
        {
          "output_type": "stream",
          "name": "stdout",
          "text": [
            "5\n"
          ]
        }
      ],
      "source": [
        "# Encuentra la posición de una subcadena dentro de otra cadena.\n",
        "cadena = \"Hola Mundo\"\n",
        "posicion = cadena.find(\"Mundo\")\n",
        "print(posicion)"
      ]
    },
    {
      "cell_type": "code",
      "execution_count": 69,
      "metadata": {
        "colab": {
          "base_uri": "https://localhost:8080/"
        },
        "id": "6A-77oHUT0qj",
        "outputId": "05399a89-17d8-4c7e-bea2-3f4d98abe58c"
      },
      "outputs": [
        {
          "output_type": "stream",
          "name": "stdout",
          "text": [
            "5\n"
          ]
        }
      ],
      "source": [
        "# Similar a find, pero lanza un error si la subcadena no se encuentra\n",
        "posicion = cadena.index(\"Mundo\")\n",
        "print(posicion)"
      ]
    },
    {
      "cell_type": "code",
      "execution_count": 72,
      "metadata": {
        "colab": {
          "base_uri": "https://localhost:8080/"
        },
        "id": "ZuzgKcKOTwbP",
        "outputId": "c8b99a4f-2e04-474e-de13-e501681bd748"
      },
      "outputs": [
        {
          "output_type": "stream",
          "name": "stdout",
          "text": [
            "-1\n"
          ]
        }
      ],
      "source": [
        "cadena = \"Hola Mundo\"\n",
        "posicion = cadena.find(\"Persona\") # reemplazar por index y analizar su resultado\n",
        "print(posicion)"
      ]
    },
    {
      "cell_type": "code",
      "execution_count": 76,
      "metadata": {
        "colab": {
          "base_uri": "https://localhost:8080/"
        },
        "id": "ogVBaTxuT3sc",
        "outputId": "f7d66f94-a90a-4582-cb0c-e78c80c59d78"
      },
      "outputs": [
        {
          "output_type": "stream",
          "name": "stdout",
          "text": [
            "False\n"
          ]
        }
      ],
      "source": [
        "# Verifica si una cadena empieza con una subcadena específica.\n",
        "cadena = \"Mundo\"\n",
        "print(cadena.startswith(\"Hola\"))"
      ]
    },
    {
      "cell_type": "code",
      "execution_count": 79,
      "metadata": {
        "colab": {
          "base_uri": "https://localhost:8080/"
        },
        "id": "Ue8gupNMUNOX",
        "outputId": "66aa92cf-6a34-42b4-b2f9-5528477b6370"
      },
      "outputs": [
        {
          "output_type": "stream",
          "name": "stdout",
          "text": [
            "True\n"
          ]
        }
      ],
      "source": [
        "# Verifica si una cadena termina con una subcadena específica.\n",
        "cadena = \"Hola Mundo\"\n",
        "print(cadena.endswith(\"Mundo\"))"
      ]
    },
    {
      "cell_type": "code",
      "execution_count": 80,
      "metadata": {
        "colab": {
          "base_uri": "https://localhost:8080/"
        },
        "id": "Fwky4f5jTx6U",
        "outputId": "98274082-713d-4af8-fc2d-7487644dcefc"
      },
      "outputs": [
        {
          "output_type": "stream",
          "name": "stdout",
          "text": [
            "2\n"
          ]
        }
      ],
      "source": [
        "cadena = \"Hola Hola Mundo\"\n",
        "print(cadena.count(\"Hola\"))"
      ]
    },
    {
      "cell_type": "markdown",
      "metadata": {
        "id": "E4IeMT2AUY5l"
      },
      "source": [
        "### Ejemplo\n",
        "\n",
        "Vamos a poner en práctica lo aprendido con un ejercicio.\n",
        "\n",
        "Solicita al usuario que ingrese su nombre completo y su edad.\n",
        "Convierte el nombre a mayúsculas.\n",
        "Reemplaza los espacios en el nombre por guiones bajos.\n",
        "Divide el nombre en una lista de palabras.\n",
        "Imprime un mensaje que incluya el nombre formateado y la edad.\n"
      ]
    },
    {
      "cell_type": "code",
      "execution_count": 82,
      "metadata": {
        "colab": {
          "base_uri": "https://localhost:8080/"
        },
        "id": "Uo6eYYiuUdb4",
        "outputId": "95453fe6-ce04-476e-966b-a230404acab8"
      },
      "outputs": [
        {
          "output_type": "stream",
          "name": "stdout",
          "text": [
            "Por favor, ingresa tu nombre completo: Natalia Gallego Angel\n",
            "Por favor, ingresa tu edad: 21\n",
            "Nombre en mayúsculas: NATALIA GALLEGO ANGEL\n",
            "Nombre con guiones bajos: Natalia_Gallego_Angel\n",
            "Nombre dividido en lista: ['Natalia', 'Gallego', 'Angel']\n",
            "Nombre formateado: NATALIA GALLEGO ANGEL, Edad: 21\n"
          ]
        }
      ],
      "source": [
        "# Solución:\n",
        "\n",
        "# Solicitar información del usuario\n",
        "nombre_completo = input(\"Por favor, ingresa tu nombre completo: \")\n",
        "edad = input(\"Por favor, ingresa tu edad: \")\n",
        "\n",
        "# Convertir el nombre a mayúsculas\n",
        "nombre_mayusculas = nombre_completo.upper()\n",
        "print(f\"Nombre en mayúsculas: {nombre_mayusculas}\")\n",
        "\n",
        "# Reemplazar los espacios por guiones bajos\n",
        "nombre_guiones = nombre_completo.replace(\" \", \"_\")\n",
        "print(f\"Nombre con guiones bajos: {nombre_guiones}\")\n",
        "\n",
        "# Dividir el nombre en una lista de palabras\n",
        "nombre_lista = nombre_completo.split()\n",
        "print(f\"Nombre dividido en lista: {nombre_lista}\")\n",
        "\n",
        "# Imprimir un mensaje formateado\n",
        "mensaje = f\"Nombre formateado: {nombre_mayusculas}, Edad: {edad}\"\n",
        "print(mensaje)"
      ]
    },
    {
      "cell_type": "markdown",
      "metadata": {
        "id": "zIGpwEvUVjNh"
      },
      "source": [
        "### Ejercicio\n",
        "\n",
        "**Descripción**\n",
        "Este ejercicio consiste en crear una contraseña aleatoria utilizando cadenas de caracteres y números aleatorios. La contraseña tendrá una longitud fija de 8 caracteres y contendrá una mezcla de letras mayúsculas, letras minúsculas, dígitos y caracteres especiales.\n",
        "\n",
        "**Pasos del ejercicio**\n",
        "1. Crear listas de caracteres que incluyan letras mayúsculas, letras minúsculas, dígitos y caracteres especiales.\n",
        "2. Seleccionar aleatoriamente caracteres de estas listas para formar una contraseña de longitud fija.\n",
        "3. Combinar los caracteres en una cadena de caracteres.\n",
        "4. Imprimir la contraseña generada.\n",
        "\n",
        "\n",
        "**Pista**\n",
        "\n",
        "```\n",
        "letras_mayusculas = \"ABCDEFGHIJKLMNOPQRSTUVWXYZ\"\n",
        "letras_minusculas = \"abcdefghijklmnopqrstuvwxyz\"\n",
        "digitos = \"0123456789\"\n",
        "caracteres_especiales = \"!@#$%^&*()-_=+\"\n",
        "```"
      ]
    },
    {
      "cell_type": "code",
      "execution_count": 91,
      "metadata": {
        "id": "b18JWTY3Woo9",
        "outputId": "521b1504-76a4-4da9-d95d-55bd580274c4",
        "colab": {
          "base_uri": "https://localhost:8080/"
        }
      },
      "outputs": [
        {
          "output_type": "stream",
          "name": "stdout",
          "text": [
            "Hk0_Wd6(\n"
          ]
        }
      ],
      "source": [
        "# Tu código va acá\n",
        "letras_mayusculas = \"ABCDEFGHIJKLMNOPQRSTUVWXYZ\"\n",
        "letras_minusculas = \"abcdefghijklmnopqrstuvwxyz\"\n",
        "digitos = \"0123456789\"\n",
        "caracteres_especiales = \"!@#$%^&*()-_=+\"\n",
        "\n",
        "import random\n",
        "\n",
        "random_letras_mayusculas = random.choice(letras_mayusculas)\n",
        "random_letras_mayusculas2 = random.choice(letras_mayusculas)\n",
        "random_letras_minusculas = random.choice(letras_minusculas)\n",
        "random_letras_minusculas2 = random.choice(letras_minusculas)\n",
        "random_digitos = random.choice(digitos)\n",
        "random_digitos2 = random.choice(digitos)\n",
        "random_caracteres_especiales = random.choice(caracteres_especiales)\n",
        "random_caracteres_especiales2 = random.choice(caracteres_especiales)\n",
        "\n",
        "cadena = random_letras_mayusculas + random_letras_minusculas + random_digitos + random_caracteres_especiales + random_letras_mayusculas2 + random_letras_minusculas2 + random_digitos2 + random_caracteres_especiales2\n",
        "\n",
        "print(cadena)\n"
      ]
    },
    {
      "cell_type": "markdown",
      "metadata": {
        "id": "p0yFkcijUB3Q"
      },
      "source": [
        "# Estructuras condicionadas\n",
        "\n",
        "Es una estructura que controla el flujo del programa.\n",
        "\n",
        "\n",
        "Se utiliza if para especificar un bloque de código a ejecutar, si una condición especificada es verdadera."
      ]
    },
    {
      "cell_type": "markdown",
      "metadata": {
        "id": "e_VAgq9TUB3Q"
      },
      "source": [
        "<img src='https://aprendeconalf.es/manual-r/img/04-estructuras-control/condicional-simple.png' width=500>"
      ]
    },
    {
      "cell_type": "code",
      "execution_count": 92,
      "metadata": {
        "colab": {
          "base_uri": "https://localhost:8080/"
        },
        "id": "a0AigYlKUB3R",
        "outputId": "cc2c5afb-925c-4cea-bc0b-a3298e3cb67f"
      },
      "outputs": [
        {
          "output_type": "stream",
          "name": "stdout",
          "text": [
            "si\n",
            "si2\n",
            "Por Fuera2\n"
          ]
        }
      ],
      "source": [
        "if 5>2:\n",
        "  print('si')\n",
        "  print('si2')\n",
        "print(\"Por Fuera2\")"
      ]
    },
    {
      "cell_type": "code",
      "execution_count": 93,
      "metadata": {
        "colab": {
          "base_uri": "https://localhost:8080/"
        },
        "id": "6vq8UaDZ81kF",
        "outputId": "1f9a5035-5330-4d97-e929-4b8bf82e8caf"
      },
      "outputs": [
        {
          "output_type": "stream",
          "name": "stdout",
          "text": [
            "b is greater than a\n"
          ]
        }
      ],
      "source": [
        "a=2\n",
        "b=5\n",
        "if (b > a):\n",
        "  print(\"b is greater than a\")"
      ]
    },
    {
      "cell_type": "markdown",
      "metadata": {
        "id": "M0RJWtCw81kF"
      },
      "source": [
        "Se utiliza else para especificar un bloque de código a ejecutar, si la misma condición es falsa."
      ]
    },
    {
      "cell_type": "code",
      "execution_count": 95,
      "metadata": {
        "id": "ZnMCvjmR81kF",
        "outputId": "f676c956-c32d-4716-d451-c3bd3e25e89b",
        "colab": {
          "base_uri": "https://localhost:8080/"
        }
      },
      "outputs": [
        {
          "output_type": "stream",
          "name": "stdout",
          "text": [
            "b is not greater than a\n"
          ]
        }
      ],
      "source": [
        "a=7\n",
        "b=5\n",
        "if (b > a):\n",
        "  print(\"b is greater than a\")\n",
        "else:\n",
        "  print(\"b is not greater than a\")"
      ]
    },
    {
      "cell_type": "markdown",
      "metadata": {
        "id": "Fu4jbDuJ81kF"
      },
      "source": [
        "<img src=\"https://aprendeconalf.es/manual-r/img/04-estructuras-control/condicional-multiple.png\" width=500/>"
      ]
    },
    {
      "cell_type": "markdown",
      "metadata": {
        "id": "k0W8ZVJb81kF"
      },
      "source": [
        "Se utiliza elif para especificar una nueva condición a probar, si la primera condición es falsa."
      ]
    },
    {
      "cell_type": "code",
      "execution_count": 99,
      "metadata": {
        "id": "ZPcbjjze81kG",
        "outputId": "460a2138-6fa8-44cc-e04e-34b0301b4028",
        "colab": {
          "base_uri": "https://localhost:8080/"
        }
      },
      "outputs": [
        {
          "output_type": "stream",
          "name": "stdout",
          "text": [
            "no\n",
            "PorFuera\n",
            "PorFuera2\n"
          ]
        }
      ],
      "source": [
        "if 1>2:\n",
        "  print('si')\n",
        "  print('si2')\n",
        "elif 2>3:\n",
        "  print('sino si')\n",
        "else:\n",
        "    print('no')\n",
        "    print('PorFuera')\n",
        "print('PorFuera2')"
      ]
    },
    {
      "cell_type": "markdown",
      "metadata": {
        "id": "mUlIjZUHUB3U"
      },
      "source": [
        "## Ejercicios"
      ]
    },
    {
      "cell_type": "markdown",
      "metadata": {
        "id": "8I7oH0XgUB3V"
      },
      "source": [
        "1. Realice un programa que pida la edad de una persona en años. Si la edad es mayor o igual a 18, el programa debe imprimir la cadena: ‘ADULTO’. Si la edad es menor a 18 se debe imprimir: ‘MENOR DE EDAD’.\n",
        "\n",
        "2. Diseñe un algoritmo que determine si ún número es o no es, par positivo.\n",
        "\n",
        "3. Diseñe un algoritmo que lea un número de tres cifras y determine si es igual al revés del número.\n"
      ]
    },
    {
      "cell_type": "code",
      "execution_count": 102,
      "metadata": {
        "id": "dG9i4os_qvZb",
        "outputId": "0bbace62-85b3-4ed4-bf1a-0caaaacd0ff9",
        "colab": {
          "base_uri": "https://localhost:8080/"
        }
      },
      "outputs": [
        {
          "output_type": "stream",
          "name": "stdout",
          "text": [
            "Ingrese su edad: 15\n",
            "MENOR DE EDAD\n"
          ]
        }
      ],
      "source": [
        "# 1. Escribe aquí tu código\n",
        "edad = input(\"Ingrese su edad: \")\n",
        "\n",
        "if int(edad) >= 18:\n",
        "    print(\"ADULTO\")\n",
        "else:\n",
        "    print(\"MENOR DE EDAD\")\n"
      ]
    },
    {
      "cell_type": "code",
      "source": [
        "#2\n",
        "num = int(input(\"Ingrese un número: \"))\n",
        "\n",
        "if num % 2 == 0 and num > 0:\n",
        "    print(\"El número es par positivo.\")\n",
        "else:\n",
        "    print(\"El número no es par positivo.\")"
      ],
      "metadata": {
        "id": "g7af5j2u7v3z",
        "outputId": "ed338135-5446-4dc8-ffe8-55d0e7373068",
        "colab": {
          "base_uri": "https://localhost:8080/"
        }
      },
      "execution_count": 107,
      "outputs": [
        {
          "output_type": "stream",
          "name": "stdout",
          "text": [
            "Ingrese un número: 7\n",
            "El número no es par positivo.\n"
          ]
        }
      ]
    },
    {
      "cell_type": "code",
      "source": [
        "num = input(\"Ingrese un  número de 3 cifras: \")\n",
        "\n",
        "if num[0::] == num[::-1]:\n",
        "  print(\"El número es igual al revés\")\n",
        "else:\n",
        "  print(\"El número no es igual al revés\")\n"
      ],
      "metadata": {
        "id": "lGho1eU080gK",
        "outputId": "108c41c5-0199-460a-f788-b2b2052bb3cf",
        "colab": {
          "base_uri": "https://localhost:8080/"
        }
      },
      "execution_count": 114,
      "outputs": [
        {
          "output_type": "stream",
          "name": "stdout",
          "text": [
            "Ingrese un  número de 3 cifras: 343\n",
            "El número es igual al revés\n"
          ]
        }
      ]
    },
    {
      "cell_type": "markdown",
      "metadata": {
        "id": "igXedies81kG"
      },
      "source": [
        "## Más ejemplos de estructuras condicionales\n",
        "\n",
        "Realizar un programa que me diga si una persona es mayor de edad e imprima el mensaje `\"Mientras usted viva en esta casa se hará lo que yo diga\"`, en caso de que viva en la casa de sus padres y sea mayor de edad. Debe pedir la edad del usuario y preguntar si vive o no en la casa de sus padres.\n",
        "\n",
        "*Implementación de `if` anidados. Los `if` anidados son estructuras que establecen condiciones consecutivas donde se encandenan, esto tiene diferentes aplicaciones desde hacer validaciones hasta generar filtros de condición.*"
      ]
    },
    {
      "cell_type": "code",
      "execution_count": 117,
      "metadata": {
        "colab": {
          "base_uri": "https://localhost:8080/"
        },
        "id": "2JPZZ9wJ81kH",
        "outputId": "0d8695dc-f3b0-4758-e93a-4f30fc7b0c59"
      },
      "outputs": [
        {
          "output_type": "stream",
          "name": "stdout",
          "text": [
            "Ingrese la edad:\n",
            "-89\n",
            "Vive en casa (si/no):\n",
            "no\n",
            "Aprenda a escribir edades\n"
          ]
        }
      ],
      "source": [
        "# Variable para leer la edad\n",
        "print(\"Ingrese la edad:\")\n",
        "edad = int(input())\n",
        "\n",
        "# Variable para leer si o no\n",
        "print(\"Vive en casa (si/no):\")\n",
        "casa = input()\n",
        "\n",
        "# Acción con if anidados\n",
        "if edad > 0:\n",
        "    if edad >= 18:\n",
        "        print(\"Es mayor de edad\")\n",
        "        if casa == \"si\":\n",
        "            print(\"Mientras usted viva en esta casa se hará lo que yo diga\")\n",
        "        else:\n",
        "            print(\"Puede hacer lo que le dé la gana en su casa\")\n",
        "    else:\n",
        "        print(\"Usted es un bebé\")\n",
        "else:\n",
        "    print(\"Aprenda a escribir edades\")\n"
      ]
    },
    {
      "cell_type": "markdown",
      "metadata": {
        "id": "IaH4r5yy81kH"
      },
      "source": [
        "## Ejercicio\n",
        "\n",
        "*`if` anidado incorporando `else`*\n",
        "\n",
        "Realizar un programa donde se le pida a un usuario que ingrese la temperatura actual de forma que si la temperatura es mayor a $15°$ Celsius pase a la siguiente condición, donde se le pregunta si es mayor a $25°$ Celsius, en caso de ser así, imprimir el mensaje `\"A la playa\"`, de lo contrario imprimir `A la montaña!`."
      ]
    },
    {
      "cell_type": "code",
      "execution_count": 119,
      "metadata": {
        "colab": {
          "base_uri": "https://localhost:8080/"
        },
        "id": "LMQA11Ah81kH",
        "outputId": "0736afb5-b0ed-4a4d-db86-9b5d95b5cca8"
      },
      "outputs": [
        {
          "output_type": "stream",
          "name": "stdout",
          "text": [
            "Ingrese el valor de la temperatura:\n",
            "78\n",
            "¡A la playa!\n"
          ]
        }
      ],
      "source": [
        "# Variable para leer la temperatura\n",
        "print(\"Ingrese el valor de la temperatura:\")\n",
        "temperatura = float(input())\n",
        "\n",
        "if temperatura > 15:\n",
        "    if temperatura > 25:\n",
        "        # Si la temperatura es mayor que 25 ...\n",
        "        print(\"¡A la playa!\")\n",
        "    else:\n",
        "        print(\"¡A la montaña!\")\n"
      ]
    },
    {
      "cell_type": "markdown",
      "metadata": {
        "id": "trNnhYPN81kH"
      },
      "source": [
        "## Ejercicio\n",
        "\n",
        "Realizar un programa que pida por teclado 2 números enteros diferentes y compare e imprima el mayor de ellos."
      ]
    },
    {
      "cell_type": "code",
      "execution_count": 120,
      "metadata": {
        "colab": {
          "base_uri": "https://localhost:8080/"
        },
        "id": "taHMDG_x81kH",
        "outputId": "364f2e66-6ece-43c1-a4ca-57428888909e"
      },
      "outputs": [
        {
          "output_type": "stream",
          "name": "stdout",
          "text": [
            "Ingrese el primer numero: \n",
            "7\n",
            "Ingrese el segundo numero: \n",
            "8\n",
            "El número mayor es: 8\n"
          ]
        }
      ],
      "source": [
        "# Se pueden definir n variables del mismo tipo en la misma linea:\n",
        "num1, num2 = 0, 0\n",
        "\n",
        "# Variable para leer enteros\n",
        "print(\"Ingrese el primer numero: \")\n",
        "num1 = int(input())\n",
        "print(\"Ingrese el segundo numero: \")\n",
        "num2 = int(input())\n",
        "\n",
        "# Comparar numeros\n",
        "if num1 > num2:\n",
        "    print(\"El número mayor es:\", num1)\n",
        "else:\n",
        "    print(\"El número mayor es:\", num2)"
      ]
    },
    {
      "cell_type": "markdown",
      "metadata": {
        "id": "6csorExy81kH"
      },
      "source": [
        "## Ejercicio\n",
        "\n",
        "Realizar un programa que simule un inicio de sesión solicitando el nombre de usuario y contraseña. Mostrar un mensaje en pantalla si el inicio de sesión es correcto o incorrecto."
      ]
    },
    {
      "cell_type": "code",
      "execution_count": 122,
      "metadata": {
        "colab": {
          "base_uri": "https://localhost:8080/"
        },
        "id": "mCVstkMY81kH",
        "outputId": "6d9a90ed-fcee-410c-92d6-f61782a4ef18"
      },
      "outputs": [
        {
          "output_type": "stream",
          "name": "stdout",
          "text": [
            "Ingrese Nombre de usuario: \n",
            "Pepito\n",
            "Ingrese Clave de usuario: \n",
            "283\n",
            "Nombre de Usuario o Contraseña Incorrecto\n"
          ]
        }
      ],
      "source": [
        "# Definiendo variables String en la misma línea:\n",
        "nombre, clave = \"\", \"\"\n",
        "\n",
        "# Variable para leer String\n",
        "print(\"Ingrese Nombre de usuario: \")\n",
        "nombre = input()\n",
        "print(\"Ingrese Clave de usuario: \")\n",
        "clave = input()\n",
        "\n",
        "# Validar entradas\n",
        "if nombre == \"Juan\" and clave == \"123456\":\n",
        "    print(\"Bienvenido al Sistema\")\n",
        "else:\n",
        "    print(\"Nombre de Usuario o Contraseña Incorrecto\")\n"
      ]
    },
    {
      "cell_type": "markdown",
      "metadata": {
        "id": "vkVHhWVL81kI"
      },
      "source": [
        "## Ejercicio\n",
        "\n",
        "Una farmacia desea un programa para ingresar el valor de compra y calcular lo siguiente: si el pago se efectúa al `\"contado\"`, calcular un descuento del $5%$; pero si el pago es con `\"tarjeta\"` se incrementa un recargo del $3%$ al valor de compra. Calcular y visualizar el descuento o recargo según sea el caso y el total a pagar de la compra."
      ]
    },
    {
      "cell_type": "code",
      "execution_count": 124,
      "metadata": {
        "colab": {
          "base_uri": "https://localhost:8080/"
        },
        "id": "yrwCVA4Q81kI",
        "outputId": "2faac77c-c801-4d1d-ebf1-19342394599e"
      },
      "outputs": [
        {
          "output_type": "stream",
          "name": "stdout",
          "text": [
            "Ingrese el valor de la compra: \n",
            "30000\n",
            "Ingrese tipo de pago(contado|tarjeta): \n",
            "tarjeta\n",
            "El recargo es: 900.0\n",
            "El total es: 30900.0\n"
          ]
        }
      ],
      "source": [
        "# Definir variables double en una sola línea\n",
        "valor, descuento, recargo, total = 0.0, 0.0, 0.0, 0.0\n",
        "\n",
        "# Definir String\n",
        "tipo_pago = \"\"\n",
        "\n",
        "# Variable para leer String\n",
        "print(\"Ingrese el valor de la compra: \")\n",
        "valor = float(input())\n",
        "print(\"Ingrese tipo de pago(contado|tarjeta): \")\n",
        "tipo_pago = input().lower()\n",
        "\n",
        "# Descuento y recargo\n",
        "descuento = 0.05 * valor\n",
        "recargo = 0.03 * valor\n",
        "\n",
        "if tipo_pago == \"contado\":\n",
        "    print(\"El descuento es:\", descuento)\n",
        "    total = valor - descuento\n",
        "    print(\"El total es:\", total)\n",
        "else:\n",
        "    print(\"El recargo es:\", recargo)\n",
        "    total = valor + recargo\n",
        "    print(\"El total es:\", total)\n"
      ]
    },
    {
      "cell_type": "markdown",
      "metadata": {
        "id": "V34bHIHL81kI"
      },
      "source": [
        "## Ejercicio\n",
        "\n",
        "*`elif` es una alternativa al uso de los `if` anidados y la estructura `else`, este se activa como una condición alternativa si el resultado es falso en la condición inicial, esta funciona como un `else` pero iterativo y consecutivamente se cierra con `else`.*\n",
        "\n",
        "Realizar un programa que le pregunte al usuario la cantidad de satelites que tiene Jupiter y valide e imprima un mensaje si ha acertado o no."
      ]
    },
    {
      "cell_type": "code",
      "execution_count": 126,
      "metadata": {
        "colab": {
          "base_uri": "https://localhost:8080/"
        },
        "id": "yjbV7zOX81kI",
        "outputId": "6e8582a1-e931-4be0-d119-3234ae588b95"
      },
      "outputs": [
        {
          "output_type": "stream",
          "name": "stdout",
          "text": [
            "¿Cuantos satélites tiene Júpiter?\n",
            "90\n",
            "Lo siento, pero no es la respuesta correcta :(\n"
          ]
        }
      ],
      "source": [
        "# Variable para leer String\n",
        "print(\"¿Cuantos satélites tiene Júpiter?\")\n",
        "C = int(input())\n",
        "\n",
        "# Validar e imprimir mensaje\n",
        "if C == 79:\n",
        "    print(\"¡Felicidades, has acertado la pregunta! :)\")\n",
        "elif C != 79:\n",
        "    print(\"Lo siento, pero no es la respuesta correcta :(\")\n"
      ]
    },
    {
      "cell_type": "markdown",
      "metadata": {
        "id": "oiHvFgQw81kI"
      },
      "source": [
        "## Ejercicio\n",
        "\n",
        "Realizar un programa que le pida al usuario un número del 1 al 7 y que imprima el día de la semana que corresponde a ese número."
      ]
    },
    {
      "cell_type": "code",
      "execution_count": 129,
      "metadata": {
        "colab": {
          "base_uri": "https://localhost:8080/"
        },
        "id": "s-gYrmFG81kI",
        "outputId": "5caa541a-4cfb-4e4c-e4ce-a946c7b306d5"
      },
      "outputs": [
        {
          "output_type": "stream",
          "name": "stdout",
          "text": [
            "Ingrese un número del 1 al 7: \n",
            "5\n",
            "El día es Viernes\n"
          ]
        }
      ],
      "source": [
        "# Realizar un programa que le pida al usuario un número del 1 al 7 y que imprima el día de la semana que corresponde a ese número.\n",
        "\n",
        "# Variable para leer String\n",
        "print(\"Ingrese un número del 1 al 7: \")\n",
        "dia = int(input())\n",
        "\n",
        "# Validar e imprimir mensaje\n",
        "if dia == 1:\n",
        "    print(\"El día es Lunes\")\n",
        "elif dia == 2:\n",
        "    print(\"El día es Martes\")\n",
        "elif dia == 3:\n",
        "    print(\"El día es Miércoles\")\n",
        "elif dia == 4:\n",
        "    print(\"El día es Jueves\")\n",
        "elif dia == 5:\n",
        "    print(\"El día es Viernes\")\n",
        "elif dia == 6:\n",
        "    print(\"El día es Sábado\")\n",
        "elif dia == 7:\n",
        "    print(\"El día es Domingo\")\n",
        "else:\n",
        "    print(\"El número ingresado no es válido\")\n",
        "\n"
      ]
    },
    {
      "cell_type": "markdown",
      "metadata": {
        "id": "Rqgh9sLk81kI"
      },
      "source": [
        "## Ejercicio\n",
        "\n",
        "Realizar un programa que ordene 3 números de mayor a menor. Lea los numeros por teclado."
      ]
    },
    {
      "cell_type": "code",
      "execution_count": 130,
      "metadata": {
        "colab": {
          "base_uri": "https://localhost:8080/"
        },
        "id": "eCQDpOI381kJ",
        "outputId": "3719cf78-65a4-415f-9170-aa9bc0a7fc94"
      },
      "outputs": [
        {
          "output_type": "stream",
          "name": "stdout",
          "text": [
            "Ingrese el primer número: \n",
            "5\n",
            "Ingrese el segundo número: \n",
            "7\n",
            "Ingrese el tercer número: \n",
            "8\n",
            "El orden es: 8 , 7 , 5\n"
          ]
        }
      ],
      "source": [
        "}# Definir variables (números enteros)\n",
        "n1, n2, n3 = 0, 0, 0\n",
        "\n",
        "# Leer variables\n",
        "print(\"Ingrese el primer número: \")\n",
        "n1 = int(input())\n",
        "print(\"Ingrese el segundo número: \")\n",
        "n2 = int(input())\n",
        "print(\"Ingrese el tercer número: \")\n",
        "n3 = int(input())\n",
        "\n",
        "# Lógica\n",
        "if (n1 > n2) and (n2 > n3):\n",
        "    print(\"El orden es:\", n1, \",\", n2, \",\", n3)\n",
        "elif (n1 > n3) and (n3 > n2):\n",
        "    print(\"El orden es:\", n1, \",\", n3, \",\", n2)\n",
        "elif (n2 > n1) and (n1 > n3):\n",
        "    print(\"El orden es:\", n2, \",\", n1, \",\", n3)\n",
        "elif (n2 > n3) and (n3 > n1):\n",
        "    print(\"El orden es:\", n2, \",\", n3, \",\", n1)\n",
        "elif (n3 > n2) and (n2 > n1):\n",
        "    print(\"El orden es:\", n3, \",\", n2, \",\", n1)\n",
        "else:\n",
        "    print(\"El orden es:\", n3, \",\", n1, \",\", n2)\n"
      ]
    },
    {
      "cell_type": "markdown",
      "metadata": {
        "id": "k4KW3cbX81kJ"
      },
      "source": [
        "## Ejercicio\n",
        "\n",
        "Realice un programa que pida al usuario una temperatura.\n",
        "- Si la temperatura es mayor a $25$, imprima `\"A la playa!\"`\n",
        "- Si la temperatura es mayor a $15$ y menor a $25$, imprima `\"A la montaña!\"`\n",
        "- Si la temperatura es menor a $5$, imprima `\"A esquiar!\"`\n",
        "\n",
        "En caso contario, imprimir `\"A descansar... zZz\"`"
      ]
    },
    {
      "cell_type": "code",
      "execution_count": null,
      "metadata": {
        "colab": {
          "base_uri": "https://localhost:8080/"
        },
        "id": "VCuIsdjl81kJ",
        "outputId": "8133b29e-1ef7-412f-e695-26be88c7eb43"
      },
      "outputs": [
        {
          "name": "stdout",
          "output_type": "stream",
          "text": [
            "Ingrese la temperatura:\n",
            "22\n",
            "A la montaña!\n"
          ]
        }
      ],
      "source": [
        "# Variable para leer temperatura\n",
        "print(\"Ingrese la temperatura:\")\n",
        "temperatura = float(input())\n",
        "\n",
        "# Lógica\n",
        "if temperatura > 25:\n",
        "    # Si la temperatura es mayor que 25 ...\n",
        "    print(\"A la playa!\")\n",
        "elif temperatura > 15:\n",
        "    # Si es mayor que 15 y no es mayor que 25 ...\n",
        "    print(\"A la montaña!\")\n",
        "elif temperatura < 5:\n",
        "    # Si es menor que 5 y está nevando y no es mayor que 15 ni mayor que 25 ...\n",
        "    print(\"A esquiar!\")\n",
        "else:\n",
        "    # Si la temperatura no cumple ninguna de las condiciones anteriores ...\n",
        "    print(\"A descansar... zZz\")\n"
      ]
    },
    {
      "cell_type": "markdown",
      "metadata": {
        "id": "KLg9yAj681kJ"
      },
      "source": [
        "## Ejercicio\n",
        "\n",
        "Realice un programa que al introducir el Coeficiente Intelectual (IQ, por sus siglas en inglés) del usuario lo clasifique en Bajo, Medio, Normal o Alto."
      ]
    },
    {
      "cell_type": "code",
      "execution_count": 131,
      "metadata": {
        "colab": {
          "base_uri": "https://localhost:8080/"
        },
        "id": "SNZJMmN081kJ",
        "outputId": "869a7274-b5f1-439a-f352-9545838d5bdb"
      },
      "outputs": [
        {
          "output_type": "stream",
          "name": "stdout",
          "text": [
            "Introduce el Coeficiente Intelectual: \n",
            "89\n",
            "IQ Medio\n"
          ]
        }
      ],
      "source": [
        "# Variable para leer IQ\n",
        "print(\"Introduce el Coeficiente Intelectual: \")\n",
        "iq = int(input())\n",
        "\n",
        "# Lógica\n",
        "if iq <= 79:\n",
        "    print(\"IQ Bajo\")\n",
        "elif 79 < iq <= 89:\n",
        "    print(\"IQ Medio\")\n",
        "elif 90 <= iq < 110:\n",
        "    print(\"IQ Normal\")\n",
        "elif iq >= 110:\n",
        "    print(\"IQ Alto\")\n"
      ]
    },
    {
      "cell_type": "markdown",
      "metadata": {
        "id": "MSxKhbc981kK"
      },
      "source": [
        "## Ejercicio\n",
        "\n",
        "Realizar un programa que cuente los días que faltan para el fin de semana. Tenga en cuenta que:\n",
        "\n",
        "    Domingo = 1 (Fin de Semana)\n",
        "    Lunes = 2\n",
        "    Martes = 3\n",
        "    Miercoles = 4\n",
        "    Jueves = 5\n",
        "    Viernes = 6\n",
        "    Sabado = 7 (Fin de Semana)"
      ]
    },
    {
      "cell_type": "code",
      "execution_count": 135,
      "metadata": {
        "colab": {
          "base_uri": "https://localhost:8080/"
        },
        "id": "DolFWYzt81kK",
        "outputId": "f1e3d2c6-8ff1-4791-b790-f4653705f2e8"
      },
      "outputs": [
        {
          "output_type": "stream",
          "name": "stdout",
          "text": [
            "Ingrese el día de la semana:\n",
            "1\n",
            "Fin de semana\n"
          ]
        }
      ],
      "source": [
        "# Variable para leer día de la semana\n",
        "print(\"Ingrese el día de la semana:\")\n",
        "dia = int(input())\n",
        "\n",
        "# Variable para contar los días que faltan\n",
        "diasHastaFinSemana = 0\n",
        "\n",
        "# Lógica\n",
        "if 1 < dia < 7:\n",
        "    if dia < 6:\n",
        "        diasHastaFinSemana += 1\n",
        "        if dia < 5:\n",
        "            diasHastaFinSemana += 1\n",
        "            if dia < 4:\n",
        "                diasHastaFinSemana += 1\n",
        "                if dia < 3:\n",
        "                    diasHastaFinSemana += 1\n",
        "    print(\"Días restantes hasta el fin de semana:\", diasHastaFinSemana)\n",
        "elif dia == 1 or dia == 7:\n",
        "    print(\"Fin de semana\")\n",
        "else:\n",
        "    print(\"La semana solo tiene 7 días\")\n"
      ]
    },
    {
      "cell_type": "markdown",
      "metadata": {
        "id": "slOByjuO81kK"
      },
      "source": [
        "## Ejercicio\n",
        "\n",
        "Realizar un programa que pida al usuario un tipo de vehiculo (Carro, Camion, Moto) y que imprima a que hora del dia puede circular dependiendo del tipo ingresado. Si el usuario ingresa un tipo de vehiculo distinto debe mostrar un mensaje indicando el error."
      ]
    },
    {
      "cell_type": "code",
      "execution_count": null,
      "metadata": {
        "colab": {
          "base_uri": "https://localhost:8080/"
        },
        "id": "SExwxnNT81kK",
        "outputId": "40aa5d54-f697-4fa9-97d7-686300f11e66"
      },
      "outputs": [
        {
          "name": "stdout",
          "output_type": "stream",
          "text": [
            "En qué vehículo se desplaza (Carro/Camion/Moto):\n",
            "Carro\n",
            "Puedes pasar de 00:00 a 08:00\n"
          ]
        }
      ],
      "source": [
        "# Variable para leer el tipo de vehículo\n",
        "print(\"En qué vehículo se desplaza (Carro/Camion/Moto):\")\n",
        "tipoVehiculo = input()\n",
        "\n",
        "# Lógica utilizando solo condicionales\n",
        "if tipoVehiculo == \"Carro\":\n",
        "    print(\"Puedes pasar de 00:00 a 08:00\")\n",
        "elif tipoVehiculo == \"Camion\":\n",
        "    print(\"Puedes pasar de 08:00 a 16:00\")\n",
        "elif tipoVehiculo == \"Moto\":\n",
        "    print(\"Puedes pasar de 16:00 a 24:00\")\n",
        "else:\n",
        "    print(\"No se puede pasar con un \" + tipoVehiculo)\n"
      ]
    },
    {
      "cell_type": "markdown",
      "metadata": {
        "id": "U3ezNGV-81kK"
      },
      "source": [
        "## Ejercicio\n",
        "\n",
        "Realizar un programa que simule el juego 'Piedra, Papel o Tijera'. El usuario debe ingresar Piedra, Papel o Tijera, y competirá con la computadora.\n",
        "\n",
        "El usuario debe ingresar un numero entero (1 = Piedra, 2 = Papel, 3 = Tijera) e imprimir uno de los tres posibles resultados (ganar, perder o empatar)."
      ]
    },
    {
      "cell_type": "code",
      "execution_count": 137,
      "metadata": {
        "colab": {
          "base_uri": "https://localhost:8080/"
        },
        "id": "rLiFEw_O81kK",
        "outputId": "8cbbd9a2-6f2d-4152-f05b-55f549839598"
      },
      "outputs": [
        {
          "output_type": "stream",
          "name": "stdout",
          "text": [
            "----------- Piedra, Papel o Tijera -----------\n",
            "La computadora ya escogió...\n",
            "Ingrese su opción [1=Piedra, 2=Papel, 3=Tijera]: \n",
            "3\n",
            "La computadora había escogido:\n",
            "Piedra\n",
            "La computadora gana!\n"
          ]
        }
      ],
      "source": [
        "import random\n",
        "\n",
        "print(\"----------- Piedra, Papel o Tijera -----------\")\n",
        "\n",
        "seleccionCompu = random.randint(1, 3)  # Variable de tipo entero (1, 2 o 3) al azar\n",
        "print(\"La computadora ya escogió...\")\n",
        "\n",
        "# Leer opción del usuario\n",
        "print(\"Ingrese su opción [1=Piedra, 2=Papel, 3=Tijera]: \")\n",
        "seleccionUsuario = int(input())\n",
        "\n",
        "# Lógica\n",
        "print(\"La computadora había escogido:\")\n",
        "if seleccionCompu == 1:\n",
        "    print(\"Piedra\")\n",
        "    if seleccionUsuario == 1:\n",
        "        print(\"Empate!\")\n",
        "    elif seleccionUsuario == 2:\n",
        "        print(\"Usted gana!\")\n",
        "    elif seleccionUsuario == 3:\n",
        "        print(\"La computadora gana!\")\n",
        "    else:\n",
        "        print(\"Su opción no es válida, vuelva a intentarlo\")\n",
        "elif seleccionCompu == 2:\n",
        "    print(\"Papel\")\n",
        "    if seleccionUsuario == 1:\n",
        "        print(\"La computadora gana!\")\n",
        "    elif seleccionUsuario == 2:\n",
        "        print(\"Empate!\")\n",
        "    elif seleccionUsuario == 3:\n",
        "        print(\"Usted gana!\")\n",
        "    else:\n",
        "        print(\"Su opción no es válida, vuelva a intentarlo\")\n",
        "elif seleccionCompu == 3:\n",
        "    print(\"Tijera\")\n",
        "    if seleccionUsuario == 1:\n",
        "        print(\"Usted gana!\")\n",
        "    elif seleccionUsuario == 2:\n",
        "        print(\"La computadora gana!\")\n",
        "    elif seleccionUsuario == 3:\n",
        "        print(\"Empate!\")\n",
        "    else:\n",
        "        print(\"Su opción no es válida, vuelva a intentarlo\")\n"
      ]
    },
    {
      "cell_type": "markdown",
      "metadata": {
        "id": "oLumoLFA81kL"
      },
      "source": [
        "## Ejercicio\n",
        "\n",
        "Hacer un programa que simule un cajero automático con un saldo inicial de $1000$ dólares, con el siguiente menú de opciones:\n",
        "\n",
        "    1. Ingresar dinero a la cuenta.\n",
        "    2. Retirar dinero de la cuenta.\n",
        "    3. Salir.\n",
        "\n",
        "Para cada opción debe imprimir un mensaje. Si el saldo a retirar es mayor al que tiene en la cuenta tambien debe indicarlo en pantalla."
      ]
    },
    {
      "cell_type": "code",
      "execution_count": 138,
      "metadata": {
        "colab": {
          "base_uri": "https://localhost:8080/"
        },
        "id": "b3I6GMTX81kL",
        "outputId": "53a12d7a-6727-4411-f88a-9f98f9d73f6b"
      },
      "outputs": [
        {
          "output_type": "stream",
          "name": "stdout",
          "text": [
            "1. Ingresar dinero a la cuenta\n",
            "2. Retirar dinero de la cuenta.\n",
            "3. Salir.\n",
            "Ingresar la opción: 2\n",
            "Ingrese la cantidad que desea retirar: 700\n",
            "Dinero en la cuenta: 300.0\n"
          ]
        }
      ],
      "source": [
        "# Definir variables\n",
        "saldo_inicial = 1000\n",
        "opcion = 0\n",
        "ingreso = 0.0\n",
        "saldoActual = 0.0\n",
        "retiro = 0.0\n",
        "\n",
        "# Mostrar menú\n",
        "print(\"1. Ingresar dinero a la cuenta\")\n",
        "print(\"2. Retirar dinero de la cuenta.\")\n",
        "print(\"3. Salir.\")\n",
        "\n",
        "# Variable de tipo input para leer otras variables\n",
        "opcion = int(input(\"Ingresar la opción: \"))\n",
        "\n",
        "# Lógica\n",
        "if opcion == 1:\n",
        "    ingreso = float(input(\"Ingrese la cantidad que desea ingresar en la cuenta: \"))\n",
        "    saldoActual = saldo_inicial + ingreso\n",
        "    print(\"El saldo actual es:\", saldoActual)\n",
        "elif opcion == 2:\n",
        "    retiro = float(input(\"Ingrese la cantidad que desea retirar: \"))\n",
        "    if retiro <= saldo_inicial:\n",
        "        saldoActual = saldo_inicial - retiro\n",
        "        print(\"Dinero en la cuenta:\", saldoActual)\n",
        "    else:\n",
        "        print(\"No cuenta con el saldo suficiente\")\n",
        "elif opcion == 3:\n",
        "    print(\"Hasta luego...\")\n",
        "else:\n",
        "    print(\"Opción no válida, intente de nuevo.\")\n"
      ]
    },
    {
      "cell_type": "markdown",
      "metadata": {
        "id": "TVUdvNvn81kL"
      },
      "source": [
        "\n",
        "## Hazlo tú mismo ✏️\n",
        "\n",
        "#### Ejercicio 1:\n",
        "\n",
        "Realizar un programa que determine si un estudiante ha aprobado o no un examen. Para aprobar el examen, el estudiante debe obtener una calificación de al menos $60$ en el examen escrito y una calificación de al menos $80$ en el examen oral. Además, si la calificación total del examen (promedio de las calificaciones) es superior o igual a $90$, el estudiante recibe una mención honorífica.\n",
        "\n",
        "- **Nota:** Debe ingresar como minimo 4 estudiantes con su respectivas notas.\n",
        "\n",
        "\n",
        "\n",
        "\n",
        "\n",
        "#### Ejercicio 2:\n",
        "\n",
        "Tienes una tienda de ropa y deseas calcular el precio final de una compra de un cliente. La tienda ofrece un descuento del $10\\%$ en todas las compras que superen los $\\$100$, y un descuento adicional del $5\\%$ si el cliente tiene una tarjeta de membresía de la tienda. Además, la tienda cobra una tarifa de envío de $\\$5$ para todas las compras que se envían por correo. Si el cliente gasta más de $\\$200$, la tienda cubre el costo de envío.\n",
        "\n",
        "\n",
        "\n"
      ]
    },
    {
      "cell_type": "code",
      "execution_count": 144,
      "metadata": {
        "id": "yav2fZfy9qB_",
        "outputId": "e8ed9baf-860b-4f3f-9e01-8f36f39a08d0",
        "colab": {
          "base_uri": "https://localhost:8080/"
        }
      },
      "outputs": [
        {
          "output_type": "stream",
          "name": "stdout",
          "text": [
            "Estudiante 1\n",
            "Ingrese la nota de su examen escrito60\n",
            "Ingrese la nota de su examen oral80\n",
            "----------------------------------\n",
            "Estudiante 2\n",
            "Ingrese la nota de su examen escrito50\n",
            "Ingrese la nota de su examen oral100\n",
            "----------------------------------\n",
            "Estudiante 3\n",
            "Ingrese la nota de su examen escrito100\n",
            "Ingrese la nota de su examen oral100\n",
            "----------------------------------\n",
            "Estudiante 4\n",
            "Ingrese la nota de su examen escrito65\n",
            "Ingrese la nota de su examen oral75\n",
            "El estudiante 1 aprobó el examen\n",
            "El estudiante 2 no aprobó el examen\n",
            "El estudiante 3 aprobó el examen\n",
            "El estudiante 3 recibe una mención honorífica\n",
            "El estudiante 4 no aprobó el examen\n"
          ]
        }
      ],
      "source": [
        "#Ejercicio 1\n",
        "print(\"Estudiante 1\")\n",
        "nota_examen_escrito_1 = float(input(\"Ingrese la nota de su examen escrito\"))\n",
        "nota_examen_oral_1 = float(input(\"Ingrese la nota de su examen oral\"))\n",
        "\n",
        "print(\"----------------------------------\\nEstudiante 2\")\n",
        "nota_examen_escrito_2 = float(input(\"Ingrese la nota de su examen escrito\"))\n",
        "nota_examen_oral_2 = float(input(\"Ingrese la nota de su examen oral\"))\n",
        "\n",
        "print(\"----------------------------------\\nEstudiante 3\")\n",
        "nota_examen_escrito_3 = float(input(\"Ingrese la nota de su examen escrito\"))\n",
        "nota_examen_oral_3 = float(input(\"Ingrese la nota de su examen oral\"))\n",
        "\n",
        "print(\"----------------------------------\\nEstudiante 4\")\n",
        "nota_examen_escrito_4 = float(input(\"Ingrese la nota de su examen escrito\"))\n",
        "nota_examen_oral_4 = float(input(\"Ingrese la nota de su examen oral\"))\n",
        "\n",
        "promedio_1 = (nota_examen_escrito_1 + nota_examen_oral_1) / 2\n",
        "promedio_2 = (nota_examen_escrito_2 + nota_examen_oral_2) / 2\n",
        "promedio_3 = (nota_examen_escrito_3 + nota_examen_oral_3) / 2\n",
        "promedio_4 = (nota_examen_escrito_4 + nota_examen_oral_4) / 2\n",
        "\n",
        "if nota_examen_escrito_1 >= 60 and nota_examen_oral_1 >= 80:\n",
        "    print(\"El estudiante 1 aprobó el examen\")\n",
        "    if promedio_1 >= 90:\n",
        "        print(\"El estudiante 1 recibe una mención honorífica\")\n",
        "else:\n",
        "    print(\"El estudiante 1 no aprobó el examen\")\n",
        "\n",
        "if nota_examen_escrito_2 >= 60 and nota_examen_oral_2 >= 80:\n",
        "    print(\"El estudiante 2 aprobó el examen\")\n",
        "    if promedio_2 >= 90:\n",
        "        print(\"El estudiante 2 recibe una mención honorífica\")\n",
        "else:\n",
        "    print(\"El estudiante 2 no aprobó el examen\")\n",
        "\n",
        "if nota_examen_escrito_3 >= 60 and nota_examen_oral_3 >= 80:\n",
        "    print(\"El estudiante 3 aprobó el examen\")\n",
        "    if promedio_3 >= 90:\n",
        "        print(\"El estudiante 3 recibe una mención honorífica\")\n",
        "else:\n",
        "    print(\"El estudiante 3 no aprobó el examen\")\n",
        "\n",
        "if nota_examen_escrito_4 >= 60 and nota_examen_oral_4 >= 80:\n",
        "    print(\"El estudiante 4 aprobó el examen\")\n",
        "    if promedio_4 >= 90:\n",
        "        print(\"El estudiante 4 recibe una mención honorífica\")\n",
        "else:\n",
        "    print(\"El estudiante 4 no aprobó el examen\")"
      ]
    },
    {
      "cell_type": "code",
      "source": [
        "#Ejercicio 2\n",
        "print(\"Tienda de ropa\")\n",
        "print(\"----------------------------------\")\n",
        "valor_compra = float(input(\"Ingrese el valor de la compra\"))\n",
        "tarjeta_membresia = input(\"¿Tiene tarjeta de membresía(si/no)?\")\n",
        "envio_correo = input(\"¿Envía por correo(si/no\")\n",
        "\n",
        "valor_total = valor_compra\n",
        "\n",
        "if valor_compra > 100:\n",
        "  valor_total = valor_compra - (valor_compra * 0.1)\n",
        "  if tarjeta_membresia == \"si\":\n",
        "    valor_total = valor_total - (valor_total * 0.05)\n",
        "\n",
        "if envio_correo == \"si\":\n",
        "  if valor_compra < 200:\n",
        "    valor_total = valor_total + 5\n",
        "  else:\n",
        "    valor_total = valor_total + 0\n",
        "print(\"El valor total a pagar es:\", valor_total)\n",
        "\n"
      ],
      "metadata": {
        "id": "hIv1AxbjfyMu",
        "outputId": "16cb9673-b793-4034-83e1-68fa721dff41",
        "colab": {
          "base_uri": "https://localhost:8080/"
        }
      },
      "execution_count": 151,
      "outputs": [
        {
          "output_type": "stream",
          "name": "stdout",
          "text": [
            "Tienda de ropa\n",
            "----------------------------------\n",
            "Ingrese el valor de la compra150\n",
            "¿Tiene tarjeta de membresía(si/no)?no\n",
            "¿Envía por correo(si/nono\n",
            "El valor total a pagar es: 135.0\n"
          ]
        }
      ]
    }
  ],
  "metadata": {
    "colab": {
      "collapsed_sections": [
        "U85SglinHMdW",
        "rOMbU6OmL6K5",
        "wsFAEwnKMIYt",
        "E9zeyBlNNTm7",
        "mUlIjZUHUB3U",
        "igXedies81kG",
        "IaH4r5yy81kH",
        "trNnhYPN81kH",
        "6csorExy81kH",
        "vkVHhWVL81kI",
        "V34bHIHL81kI",
        "oiHvFgQw81kI",
        "Rqgh9sLk81kI",
        "k4KW3cbX81kJ",
        "KLg9yAj681kJ",
        "MSxKhbc981kK",
        "slOByjuO81kK",
        "U3ezNGV-81kK",
        "oLumoLFA81kL"
      ],
      "provenance": [],
      "toc_visible": true
    },
    "kernelspec": {
      "display_name": "Python 3",
      "name": "python3"
    },
    "language_info": {
      "name": "python"
    }
  },
  "nbformat": 4,
  "nbformat_minor": 0
}